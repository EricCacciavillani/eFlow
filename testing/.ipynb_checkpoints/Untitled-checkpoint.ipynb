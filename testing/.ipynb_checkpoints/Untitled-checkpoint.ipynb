{
 "cells": [
  {
   "cell_type": "code",
   "execution_count": 1,
   "metadata": {},
   "outputs": [
    {
     "name": "stdout",
     "output_type": "stream",
     "text": [
      "1\n"
     ]
    },
    {
     "ename": "NameError",
     "evalue": "name 'np' is not defined",
     "output_type": "error",
     "traceback": [
      "\u001b[0;31m---------------------------------------------------------------------------\u001b[0m",
      "\u001b[0;31mNameError\u001b[0m                                 Traceback (most recent call last)",
      "\u001b[0;32m<ipython-input-1-173e98bce8ae>\u001b[0m in \u001b[0;36m<module>\u001b[0;34m\u001b[0m\n\u001b[1;32m     28\u001b[0m     \u001b[0mfinal_centers\u001b[0m \u001b[0;34m=\u001b[0m \u001b[0mkmeans_instance\u001b[0m\u001b[0;34m.\u001b[0m\u001b[0mget_centers\u001b[0m\u001b[0;34m(\u001b[0m\u001b[0;34m)\u001b[0m\u001b[0;34m\u001b[0m\u001b[0;34m\u001b[0m\u001b[0m\n\u001b[1;32m     29\u001b[0m \u001b[0;34m\u001b[0m\u001b[0m\n\u001b[0;32m---> 30\u001b[0;31m     \u001b[0mfinal_centers\u001b[0m \u001b[0;34m=\u001b[0m \u001b[0mnp\u001b[0m\u001b[0;34m.\u001b[0m\u001b[0marray\u001b[0m\u001b[0;34m(\u001b[0m\u001b[0mfinal_centers\u001b[0m\u001b[0;34m)\u001b[0m\u001b[0;34m\u001b[0m\u001b[0;34m\u001b[0m\u001b[0m\n\u001b[0m\u001b[1;32m     31\u001b[0m     \u001b[0mlabels\u001b[0m \u001b[0;34m=\u001b[0m \u001b[0;34m[\u001b[0m\u001b[0mnearest\u001b[0m\u001b[0;34m(\u001b[0m\u001b[0mfinal_centers\u001b[0m\u001b[0;34m,\u001b[0m \u001b[0mx\u001b[0m\u001b[0;34m)\u001b[0m \u001b[0;32mfor\u001b[0m \u001b[0mx\u001b[0m \u001b[0;32min\u001b[0m \u001b[0msample\u001b[0m\u001b[0;34m]\u001b[0m\u001b[0;34m\u001b[0m\u001b[0;34m\u001b[0m\u001b[0m\n\u001b[1;32m     32\u001b[0m \u001b[0;31m# Visualize obtained results\u001b[0m\u001b[0;34m\u001b[0m\u001b[0;34m\u001b[0m\u001b[0;34m\u001b[0m\u001b[0m\n",
      "\u001b[0;31mNameError\u001b[0m: name 'np' is not defined"
     ]
    }
   ],
   "source": [
    "from pyclustering.cluster.kmeans import kmeans, kmeans_visualizer\n",
    "from pyclustering.cluster.center_initializer import kmeans_plusplus_initializer\n",
    "from pyclustering.samples.definitions import FCPS_SAMPLES\n",
    "from pyclustering.utils import read_sample\n",
    "import numpy as np\n",
    "\n",
    "def distance(a, b):\n",
    "    return np.sqrt(((a - b) ** 2).sum())\n",
    "\n",
    "def nearest(clusters, x):\n",
    "    \n",
    "    return np.argmin([distance(x, c) for c in clusters])\n",
    "\n",
    "\n",
    "for i in range(1,200):\n",
    "    print(i)\n",
    "    # Load list of points for cluster analysis.\n",
    "    sample = read_sample(FCPS_SAMPLES.SAMPLE_TWO_DIAMONDS)\n",
    "\n",
    "    # Prepare initial centers using K-Means++ method.\n",
    "    initial_centers = kmeans_plusplus_initializer(sample, i).initialize()\n",
    "\n",
    "    # Create instance of K-Means algorithm with prepared centers.\n",
    "    kmeans_instance = kmeans(sample, initial_centers)\n",
    "\n",
    "    # Run cluster analysis and obtain results.\n",
    "    kmeans_instance.process()\n",
    "    clusters = kmeans_instance.get_clusters()\n",
    "    final_centers = kmeans_instance.get_centers()\n",
    "\n",
    "    final_centers = np.array(final_centers)\n",
    "    labels = [nearest(final_centers, x) for x in sample]\n",
    "# Visualize obtained results\n",
    "# kmeans_visualizer.show_clusters(sample, clusters, final_centers)\n",
    "\n",
    "    print(    sum(((final_centers[l] - x)**2).sum()\n",
    "        for x, l in zip(sample, labels)))\n",
    "    print()"
   ]
  },
  {
   "cell_type": "code",
   "execution_count": null,
   "metadata": {},
   "outputs": [],
   "source": []
  }
 ],
 "metadata": {
  "kernelspec": {
   "display_name": "Python 3",
   "language": "python",
   "name": "python3"
  },
  "language_info": {
   "codemirror_mode": {
    "name": "ipython",
    "version": 3
   },
   "file_extension": ".py",
   "mimetype": "text/x-python",
   "name": "python",
   "nbconvert_exporter": "python",
   "pygments_lexer": "ipython3",
   "version": "3.7.6"
  }
 },
 "nbformat": 4,
 "nbformat_minor": 4
}
