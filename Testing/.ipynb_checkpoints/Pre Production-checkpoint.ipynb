{
 "cells": [
  {
   "cell_type": "markdown",
   "metadata": {},
   "source": [
    "# Import libs"
   ]
  },
  {
   "cell_type": "code",
   "execution_count": 1,
   "metadata": {},
   "outputs": [],
   "source": [
    "import pandas as pd\n",
    "import numpy as np \n",
    "from sklearn.tree import DecisionTreeClassifier\n",
    "from sklearn.model_selection import train_test_split\n",
    "import sys\n",
    "\n",
    "sys.path.append('..')\n",
    "from eFlow.ClusterMaster import *\n",
    "from eFlow.DataFrameTypes import *\n",
    "from eFlow.Analysis.DataAnalysis import *\n",
    "from eFlow.PipelineSegments.DataCleaner import *\n",
    "from xgboost import XGBClassifier\n",
    "import ipython_blocking\n",
    "from pivottablejs import pivot_ui\n",
    "import scikitplot as skplt"
   ]
  },
  {
   "cell_type": "code",
   "execution_count": 2,
   "metadata": {},
   "outputs": [],
   "source": [
    "%matplotlib notebook\n",
    "%matplotlib inline"
   ]
  },
  {
   "cell_type": "markdown",
   "metadata": {},
   "source": [
    "### Be sure to run the following"
   ]
  },
  {
   "cell_type": "markdown",
   "metadata": {},
   "source": [
    "## Declare Worflow Variables"
   ]
  },
  {
   "cell_type": "markdown",
   "metadata": {},
   "source": [
    "#### (This should be the only place you should have to declare anything)"
   ]
  },
  {
   "cell_type": "code",
   "execution_count": 3,
   "metadata": {},
   "outputs": [],
   "source": [
    "dataset_path = \"Datasets/titanic_train.csv\"\n",
    "target_column = \"Survived\"\n",
    "parent_project_name = \"Pre processing\"\n",
    "prediction_method = \"Classification\"\n",
    "notebook_mode = True"
   ]
  },
  {
   "cell_type": "markdown",
   "metadata": {},
   "source": [
    "# Import dataset"
   ]
  },
  {
   "cell_type": "code",
   "execution_count": 4,
   "metadata": {},
   "outputs": [
    {
     "data": {
      "text/plain": [
       "(891, 12)"
      ]
     },
     "metadata": {},
     "output_type": "display_data"
    },
    {
     "data": {
      "text/html": [
       "<div>\n",
       "<style scoped>\n",
       "    .dataframe tbody tr th:only-of-type {\n",
       "        vertical-align: middle;\n",
       "    }\n",
       "\n",
       "    .dataframe tbody tr th {\n",
       "        vertical-align: top;\n",
       "    }\n",
       "\n",
       "    .dataframe thead th {\n",
       "        text-align: right;\n",
       "    }\n",
       "</style>\n",
       "<table border=\"1\" class=\"dataframe\">\n",
       "  <thead>\n",
       "    <tr style=\"text-align: right;\">\n",
       "      <th></th>\n",
       "      <th>PassengerId</th>\n",
       "      <th>Survived</th>\n",
       "      <th>Pclass</th>\n",
       "      <th>Name</th>\n",
       "      <th>Sex</th>\n",
       "      <th>Age</th>\n",
       "      <th>SibSp</th>\n",
       "      <th>Parch</th>\n",
       "      <th>Ticket</th>\n",
       "      <th>Fare</th>\n",
       "      <th>Cabin</th>\n",
       "      <th>Embarked</th>\n",
       "    </tr>\n",
       "  </thead>\n",
       "  <tbody>\n",
       "    <tr>\n",
       "      <th>0</th>\n",
       "      <td>1</td>\n",
       "      <td>0</td>\n",
       "      <td>3</td>\n",
       "      <td>Braund, Mr. Owen Harris</td>\n",
       "      <td>male</td>\n",
       "      <td>22.0</td>\n",
       "      <td>1</td>\n",
       "      <td>0</td>\n",
       "      <td>A/5 21171</td>\n",
       "      <td>7.2500</td>\n",
       "      <td>NaN</td>\n",
       "      <td>S</td>\n",
       "    </tr>\n",
       "    <tr>\n",
       "      <th>1</th>\n",
       "      <td>2</td>\n",
       "      <td>1</td>\n",
       "      <td>1</td>\n",
       "      <td>Cumings, Mrs. John Bradley (Florence Briggs Th...</td>\n",
       "      <td>female</td>\n",
       "      <td>38.0</td>\n",
       "      <td>1</td>\n",
       "      <td>0</td>\n",
       "      <td>PC 17599</td>\n",
       "      <td>71.2833</td>\n",
       "      <td>C85</td>\n",
       "      <td>C</td>\n",
       "    </tr>\n",
       "    <tr>\n",
       "      <th>2</th>\n",
       "      <td>3</td>\n",
       "      <td>1</td>\n",
       "      <td>3</td>\n",
       "      <td>Heikkinen, Miss. Laina</td>\n",
       "      <td>female</td>\n",
       "      <td>26.0</td>\n",
       "      <td>0</td>\n",
       "      <td>0</td>\n",
       "      <td>STON/O2. 3101282</td>\n",
       "      <td>7.9250</td>\n",
       "      <td>NaN</td>\n",
       "      <td>S</td>\n",
       "    </tr>\n",
       "    <tr>\n",
       "      <th>3</th>\n",
       "      <td>4</td>\n",
       "      <td>1</td>\n",
       "      <td>1</td>\n",
       "      <td>Futrelle, Mrs. Jacques Heath (Lily May Peel)</td>\n",
       "      <td>female</td>\n",
       "      <td>35.0</td>\n",
       "      <td>1</td>\n",
       "      <td>0</td>\n",
       "      <td>113803</td>\n",
       "      <td>53.1000</td>\n",
       "      <td>C123</td>\n",
       "      <td>S</td>\n",
       "    </tr>\n",
       "    <tr>\n",
       "      <th>4</th>\n",
       "      <td>5</td>\n",
       "      <td>0</td>\n",
       "      <td>3</td>\n",
       "      <td>Allen, Mr. William Henry</td>\n",
       "      <td>male</td>\n",
       "      <td>35.0</td>\n",
       "      <td>0</td>\n",
       "      <td>0</td>\n",
       "      <td>373450</td>\n",
       "      <td>8.0500</td>\n",
       "      <td>NaN</td>\n",
       "      <td>S</td>\n",
       "    </tr>\n",
       "  </tbody>\n",
       "</table>\n",
       "</div>"
      ],
      "text/plain": [
       "   PassengerId  Survived  Pclass  \\\n",
       "0            1         0       3   \n",
       "1            2         1       1   \n",
       "2            3         1       3   \n",
       "3            4         1       1   \n",
       "4            5         0       3   \n",
       "\n",
       "                                                Name     Sex   Age  SibSp  \\\n",
       "0                            Braund, Mr. Owen Harris    male  22.0      1   \n",
       "1  Cumings, Mrs. John Bradley (Florence Briggs Th...  female  38.0      1   \n",
       "2                             Heikkinen, Miss. Laina  female  26.0      0   \n",
       "3       Futrelle, Mrs. Jacques Heath (Lily May Peel)  female  35.0      1   \n",
       "4                           Allen, Mr. William Henry    male  35.0      0   \n",
       "\n",
       "   Parch            Ticket     Fare Cabin Embarked  \n",
       "0      0         A/5 21171   7.2500   NaN        S  \n",
       "1      0          PC 17599  71.2833   C85        C  \n",
       "2      0  STON/O2. 3101282   7.9250   NaN        S  \n",
       "3      0            113803  53.1000  C123        S  \n",
       "4      0            373450   8.0500   NaN        S  "
      ]
     },
     "execution_count": 4,
     "metadata": {},
     "output_type": "execute_result"
    }
   ],
   "source": [
    "df = pd.read_csv(dataset_path)\n",
    "display(df.shape)\n",
    "df.head()"
   ]
  },
  {
   "cell_type": "markdown",
   "metadata": {},
   "source": [
    "## Interaction tool for dataframes"
   ]
  },
  {
   "cell_type": "markdown",
   "metadata": {},
   "source": [
    "### Explore the data"
   ]
  },
  {
   "cell_type": "code",
   "execution_count": 5,
   "metadata": {},
   "outputs": [
    {
     "data": {
      "text/html": [
       "\n",
       "        <iframe\n",
       "            width=\"100%\"\n",
       "            height=\"500\"\n",
       "            src=\"Piviot_Table_JS.html\"\n",
       "            frameborder=\"0\"\n",
       "            allowfullscreen\n",
       "        ></iframe>\n",
       "        "
      ],
      "text/plain": [
       "<IPython.lib.display.IFrame at 0x1075507f0>"
      ]
     },
     "execution_count": 5,
     "metadata": {},
     "output_type": "execute_result"
    }
   ],
   "source": [
    "pivot_ui(df,\n",
    "         outfile_path='Piviot_Table_JS.html')"
   ]
  },
  {
   "cell_type": "code",
   "execution_count": 6,
   "metadata": {},
   "outputs": [],
   "source": [
    "# w = widgets.SelectMultiple(\n",
    "#     options=['Apples', 'Oranges', 'Pears'],\n",
    "#     value=['Oranges'],\n",
    "#     #rows=10,\n",
    "#     description='Fruits',\n",
    "#     disabled=False\n",
    "# )\n",
    "# del w"
   ]
  },
  {
   "cell_type": "code",
   "execution_count": 7,
   "metadata": {},
   "outputs": [
    {
     "name": "stdout",
     "output_type": "stream",
     "text": [
      "→\n"
     ]
    }
   ],
   "source": [
    "a = str(u\"\\u2192\")\n",
    "print(a)"
   ]
  },
  {
   "cell_type": "markdown",
   "metadata": {},
   "source": [
    "## Remove Un-Wanted Columns"
   ]
  },
  {
   "cell_type": "markdown",
   "metadata": {},
   "source": [
    "### Do not remove nans yet, let the datacleaner do it's job"
   ]
  },
  {
   "cell_type": "code",
   "execution_count": 8,
   "metadata": {},
   "outputs": [
    {
     "data": {
      "text/html": [
       "<div>\n",
       "<style scoped>\n",
       "    .dataframe tbody tr th:only-of-type {\n",
       "        vertical-align: middle;\n",
       "    }\n",
       "\n",
       "    .dataframe tbody tr th {\n",
       "        vertical-align: top;\n",
       "    }\n",
       "\n",
       "    .dataframe thead th {\n",
       "        text-align: right;\n",
       "    }\n",
       "</style>\n",
       "<table border=\"1\" class=\"dataframe\">\n",
       "  <thead>\n",
       "    <tr style=\"text-align: right;\">\n",
       "      <th></th>\n",
       "      <th>Survived</th>\n",
       "      <th>Pclass</th>\n",
       "      <th>Sex</th>\n",
       "      <th>Age</th>\n",
       "      <th>SibSp</th>\n",
       "      <th>Parch</th>\n",
       "      <th>Fare</th>\n",
       "      <th>Cabin</th>\n",
       "      <th>Embarked</th>\n",
       "    </tr>\n",
       "  </thead>\n",
       "  <tbody>\n",
       "    <tr>\n",
       "      <th>0</th>\n",
       "      <td>0</td>\n",
       "      <td>3</td>\n",
       "      <td>male</td>\n",
       "      <td>22.0</td>\n",
       "      <td>1</td>\n",
       "      <td>0</td>\n",
       "      <td>7.2500</td>\n",
       "      <td>NaN</td>\n",
       "      <td>S</td>\n",
       "    </tr>\n",
       "    <tr>\n",
       "      <th>1</th>\n",
       "      <td>1</td>\n",
       "      <td>1</td>\n",
       "      <td>female</td>\n",
       "      <td>38.0</td>\n",
       "      <td>1</td>\n",
       "      <td>0</td>\n",
       "      <td>71.2833</td>\n",
       "      <td>C85</td>\n",
       "      <td>C</td>\n",
       "    </tr>\n",
       "    <tr>\n",
       "      <th>2</th>\n",
       "      <td>1</td>\n",
       "      <td>3</td>\n",
       "      <td>female</td>\n",
       "      <td>26.0</td>\n",
       "      <td>0</td>\n",
       "      <td>0</td>\n",
       "      <td>7.9250</td>\n",
       "      <td>NaN</td>\n",
       "      <td>S</td>\n",
       "    </tr>\n",
       "    <tr>\n",
       "      <th>3</th>\n",
       "      <td>1</td>\n",
       "      <td>1</td>\n",
       "      <td>female</td>\n",
       "      <td>35.0</td>\n",
       "      <td>1</td>\n",
       "      <td>0</td>\n",
       "      <td>53.1000</td>\n",
       "      <td>C123</td>\n",
       "      <td>S</td>\n",
       "    </tr>\n",
       "    <tr>\n",
       "      <th>4</th>\n",
       "      <td>0</td>\n",
       "      <td>3</td>\n",
       "      <td>male</td>\n",
       "      <td>35.0</td>\n",
       "      <td>0</td>\n",
       "      <td>0</td>\n",
       "      <td>8.0500</td>\n",
       "      <td>NaN</td>\n",
       "      <td>S</td>\n",
       "    </tr>\n",
       "  </tbody>\n",
       "</table>\n",
       "</div>"
      ],
      "text/plain": [
       "   Survived  Pclass     Sex   Age  SibSp  Parch     Fare Cabin Embarked\n",
       "0         0       3    male  22.0      1      0   7.2500   NaN        S\n",
       "1         1       1  female  38.0      1      0  71.2833   C85        C\n",
       "2         1       3  female  26.0      0      0   7.9250   NaN        S\n",
       "3         1       1  female  35.0      1      0  53.1000  C123        S\n",
       "4         0       3    male  35.0      0      0   8.0500   NaN        S"
      ]
     },
     "execution_count": 8,
     "metadata": {},
     "output_type": "execute_result"
    }
   ],
   "source": [
    "df.drop(columns=[\"Name\",\n",
    "                 \"Ticket\",\n",
    "                 \"PassengerId\"],\n",
    "        inplace=True)\n",
    "df.head()"
   ]
  },
  {
   "cell_type": "code",
   "execution_count": 9,
   "metadata": {},
   "outputs": [],
   "source": [
    "from dateutil import parser\n",
    "dt = parser.parse(\"Aug 28 1999 12:00AM\")"
   ]
  },
  {
   "cell_type": "code",
   "execution_count": 10,
   "metadata": {},
   "outputs": [
    {
     "name": "stderr",
     "output_type": "stream",
     "text": [
      "/Users/ericcacciavillani/anaconda3/envs/Master_Project/lib/python3.6/site-packages/ipykernel_launcher.py:2: SettingWithCopyWarning: \n",
      "A value is trying to be set on a copy of a slice from a DataFrame\n",
      "\n",
      "See the caveats in the documentation: http://pandas.pydata.org/pandas-docs/stable/indexing.html#indexing-view-versus-copy\n",
      "  \n"
     ]
    }
   ],
   "source": [
    "df[\"Date_test\"] = [\"2019-01-02\" for _ in range(0,df.shape[0])]\n",
    "df[\"Date_test\"][0] = np.nan\n",
    "# df[\"Date_test\"] = [parser.parse(val)for val in df[\"Date_test\"].value_counts().keys()]"
   ]
  },
  {
   "cell_type": "markdown",
   "metadata": {},
   "source": [
    "## Basic Feature manipulation"
   ]
  },
  {
   "cell_type": "markdown",
   "metadata": {},
   "source": [
    "### Change cabin column to have the level on the ship"
   ]
  },
  {
   "cell_type": "code",
   "execution_count": 11,
   "metadata": {},
   "outputs": [],
   "source": [
    "df[\"Cabin\"] = df[\"Cabin\"].str.replace(r'\\d+', '').str[0]"
   ]
  },
  {
   "cell_type": "markdown",
   "metadata": {},
   "source": [
    "## Change Feature Data types"
   ]
  },
  {
   "cell_type": "markdown",
   "metadata": {},
   "source": [
    "### Look at data types"
   ]
  },
  {
   "cell_type": "code",
   "execution_count": 12,
   "metadata": {},
   "outputs": [
    {
     "data": {
      "text/plain": [
       "Survived       int64\n",
       "Pclass         int64\n",
       "Sex           object\n",
       "Age          float64\n",
       "SibSp          int64\n",
       "Parch          int64\n",
       "Fare         float64\n",
       "Cabin         object\n",
       "Embarked      object\n",
       "Date_test     object\n",
       "dtype: object"
      ]
     },
     "execution_count": 12,
     "metadata": {},
     "output_type": "execute_result"
    }
   ],
   "source": [
    "df.dtypes"
   ]
  },
  {
   "cell_type": "markdown",
   "metadata": {},
   "source": [
    "### Make given data type changes"
   ]
  },
  {
   "cell_type": "code",
   "execution_count": 13,
   "metadata": {},
   "outputs": [],
   "source": [
    "# df[\"Pclass\"] = df[\"Pclass\"].replace(1, np.nan)"
   ]
  },
  {
   "cell_type": "markdown",
   "metadata": {},
   "source": [
    "### Final look at data types"
   ]
  },
  {
   "cell_type": "code",
   "execution_count": 14,
   "metadata": {},
   "outputs": [
    {
     "data": {
      "text/plain": [
       "Survived       int64\n",
       "Pclass         int64\n",
       "Sex           object\n",
       "Age          float64\n",
       "SibSp          int64\n",
       "Parch          int64\n",
       "Fare         float64\n",
       "Cabin         object\n",
       "Embarked      object\n",
       "Date_test     object\n",
       "dtype: object"
      ]
     },
     "execution_count": 14,
     "metadata": {},
     "output_type": "execute_result"
    }
   ],
   "source": [
    "df.dtypes"
   ]
  },
  {
   "cell_type": "markdown",
   "metadata": {},
   "source": [
    "## Set up DataFrameTypes"
   ]
  },
  {
   "cell_type": "code",
   "execution_count": 15,
   "metadata": {},
   "outputs": [
    {
     "name": "stdout",
     "output_type": "stream",
     "text": [
      "Categorical Features: {'Cabin', 'Sex', 'Embarked'}\n",
      "\n",
      "Possible One hot encoded feature names: {'Cabin': ['Cabin_E', 'Cabin_G', 'Cabin_B', 'Cabin_A', 'Cabin_T', 'Cabin_C', 'Cabin_D', 'Cabin_F'], 'Sex': ['Sex_female', 'Sex_male'], 'Embarked': ['Embarked_S', 'Embarked_C', 'Embarked_Q']}\n",
      "\n",
      "------------------------------------------------------------------------------------------\n",
      "Numerical Features: {'Parch', 'SibSp', 'Fare', 'Pclass', 'Age', 'Survived'}\n",
      "\n",
      "Integer Features: {'Parch', 'Pclass', 'SibSp', 'Survived'}\n",
      "\n",
      "Float Features: {'Age', 'Fare'}\n",
      "\n",
      "Datetime Features: {'Date_test'}\n",
      "\n",
      "Target Feature: Survived\n",
      "\n"
     ]
    }
   ],
   "source": [
    "df_features = DataFrameTypes(df,\n",
    "                             target_column=target_column,\n",
    "                             ignore_nulls=True)"
   ]
  },
  {
   "cell_type": "markdown",
   "metadata": {},
   "source": [
    "## Skim through Value Counts"
   ]
  },
  {
   "cell_type": "code",
   "execution_count": 16,
   "metadata": {},
   "outputs": [
    {
     "data": {
      "text/plain": [
       "0    549\n",
       "1    342\n",
       "Name: Survived, dtype: int64"
      ]
     },
     "metadata": {},
     "output_type": "display_data"
    },
    {
     "name": "stdout",
     "output_type": "stream",
     "text": [
      "************\n",
      "\n",
      "\n"
     ]
    },
    {
     "data": {
      "text/plain": [
       "3    491\n",
       "1    216\n",
       "2    184\n",
       "Name: Pclass, dtype: int64"
      ]
     },
     "metadata": {},
     "output_type": "display_data"
    },
    {
     "name": "stdout",
     "output_type": "stream",
     "text": [
      "************\n",
      "\n",
      "\n"
     ]
    },
    {
     "data": {
      "text/plain": [
       "male      577\n",
       "female    314\n",
       "Name: Sex, dtype: int64"
      ]
     },
     "metadata": {},
     "output_type": "display_data"
    },
    {
     "name": "stdout",
     "output_type": "stream",
     "text": [
      "************\n",
      "\n",
      "\n"
     ]
    },
    {
     "data": {
      "text/plain": [
       "0    608\n",
       "1    209\n",
       "2     28\n",
       "4     18\n",
       "3     16\n",
       "8      7\n",
       "5      5\n",
       "Name: SibSp, dtype: int64"
      ]
     },
     "metadata": {},
     "output_type": "display_data"
    },
    {
     "name": "stdout",
     "output_type": "stream",
     "text": [
      "************\n",
      "\n",
      "\n"
     ]
    },
    {
     "data": {
      "text/plain": [
       "0    678\n",
       "1    118\n",
       "2     80\n",
       "5      5\n",
       "3      5\n",
       "4      4\n",
       "6      1\n",
       "Name: Parch, dtype: int64"
      ]
     },
     "metadata": {},
     "output_type": "display_data"
    },
    {
     "name": "stdout",
     "output_type": "stream",
     "text": [
      "************\n",
      "\n",
      "\n"
     ]
    },
    {
     "data": {
      "text/plain": [
       "C    59\n",
       "B    47\n",
       "D    33\n",
       "E    32\n",
       "A    15\n",
       "F    13\n",
       "G     4\n",
       "T     1\n",
       "Name: Cabin, dtype: int64"
      ]
     },
     "metadata": {},
     "output_type": "display_data"
    },
    {
     "name": "stdout",
     "output_type": "stream",
     "text": [
      "************\n",
      "\n",
      "\n"
     ]
    },
    {
     "data": {
      "text/plain": [
       "S    644\n",
       "C    168\n",
       "Q     77\n",
       "Name: Embarked, dtype: int64"
      ]
     },
     "metadata": {},
     "output_type": "display_data"
    },
    {
     "name": "stdout",
     "output_type": "stream",
     "text": [
      "************\n",
      "\n",
      "\n"
     ]
    },
    {
     "data": {
      "text/plain": [
       "2019-01-02    890\n",
       "Name: Date_test, dtype: int64"
      ]
     },
     "metadata": {},
     "output_type": "display_data"
    },
    {
     "name": "stdout",
     "output_type": "stream",
     "text": [
      "************\n",
      "\n",
      "\n"
     ]
    }
   ],
   "source": [
    "for col in df.columns:\n",
    "    if col not in df_features.get_float_features() and len(np.unique(df[col].dropna().values)) <= 12:\n",
    "        display(df[col].value_counts())\n",
    "        print(\"***\" * 4 + \"\\n\\n\")"
   ]
  },
  {
   "cell_type": "markdown",
   "metadata": {},
   "source": [
    "### Perform quick analysis"
   ]
  },
  {
   "cell_type": "code",
   "execution_count": 17,
   "metadata": {},
   "outputs": [],
   "source": [
    "# analysis_obj = DataAnalysis(df,\n",
    "#                             df_features,\n",
    "#                             project_name=f'{parent_project_name}/General Analysis (Before Cleaning)',\n",
    "#                             missing_data_visuals=False)"
   ]
  },
  {
   "cell_type": "markdown",
   "metadata": {},
   "source": [
    "## Data Cleaning"
   ]
  },
  {
   "cell_type": "code",
   "execution_count": 18,
   "metadata": {},
   "outputs": [
    {
     "name": "stdout",
     "output_type": "stream",
     "text": [
      "Your selected dataframe has 10 columns.\n",
      "There are 4 columns that have missing values.\n"
     ]
    },
    {
     "data": {
      "text/html": [
       "<div>\n",
       "<style scoped>\n",
       "    .dataframe tbody tr th:only-of-type {\n",
       "        vertical-align: middle;\n",
       "    }\n",
       "\n",
       "    .dataframe tbody tr th {\n",
       "        vertical-align: top;\n",
       "    }\n",
       "\n",
       "    .dataframe thead th {\n",
       "        text-align: right;\n",
       "    }\n",
       "</style>\n",
       "<table border=\"1\" class=\"dataframe\">\n",
       "  <thead>\n",
       "    <tr style=\"text-align: right;\">\n",
       "      <th></th>\n",
       "      <th>Missing Values</th>\n",
       "      <th>% of Total Values</th>\n",
       "    </tr>\n",
       "  </thead>\n",
       "  <tbody>\n",
       "    <tr>\n",
       "      <th>Cabin</th>\n",
       "      <td>687</td>\n",
       "      <td>77.1</td>\n",
       "    </tr>\n",
       "    <tr>\n",
       "      <th>Age</th>\n",
       "      <td>177</td>\n",
       "      <td>19.9</td>\n",
       "    </tr>\n",
       "    <tr>\n",
       "      <th>Embarked</th>\n",
       "      <td>2</td>\n",
       "      <td>0.2</td>\n",
       "    </tr>\n",
       "    <tr>\n",
       "      <th>Date_test</th>\n",
       "      <td>1</td>\n",
       "      <td>0.1</td>\n",
       "    </tr>\n",
       "  </tbody>\n",
       "</table>\n",
       "</div>"
      ],
      "text/plain": [
       "           Missing Values  % of Total Values\n",
       "Cabin                 687               77.1\n",
       "Age                   177               19.9\n",
       "Embarked                2                0.2\n",
       "Date_test               1                0.1"
      ]
     },
     "metadata": {},
     "output_type": "display_data"
    },
    {
     "data": {
      "image/png": "[encoded data removed]",
      "text/plain": [
       "<Figure size 1800x720 with 2 Axes>"
      ]
     },
     "metadata": {
      "needs_background": "light"
     },
     "output_type": "display_data"
    },
    {
     "data": {
      "image/png": "[encoded data removed]",
      "text/plain": [
       "<Figure size 1728x720 with 3 Axes>"
      ]
     },
     "metadata": {
      "needs_background": "light"
     },
     "output_type": "display_data"
    },
    {
     "data": {
      "image/png": "[encoded data removed]",
      "text/plain": [
       "<Figure size 1440x864 with 1 Axes>"
      ]
     },
     "metadata": {
      "needs_background": "light"
     },
     "output_type": "display_data"
    },
    {
     "data": {
      "image/png": "[encoded data removed]",
      "text/plain": [
       "<Figure size 1800x720 with 1 Axes>"
      ]
     },
     "metadata": {
      "needs_background": "light"
     },
     "output_type": "display_data"
    }
   ],
   "source": [
    "data_cleaner = DataCleaner(df,\n",
    "                           project_name=f'{parent_project_name}/Data Cleaning',\n",
    "                           missing_data_visuals=True)"
   ]
  },
  {
   "cell_type": "code",
   "execution_count": 19,
   "metadata": {},
   "outputs": [
    {
     "data": {
      "application/vnd.jupyter.widget-view+json": {
       "model_id": "67343c7642fe412a88a5f7559d64889a",
       "version_major": 2,
       "version_minor": 0
      },
      "text/plain": [
       "Text(value='Default Data Cleaning', description='File Name:', layout=Layout(left='590px'), placeholder='Replac…"
      ]
     },
     "metadata": {},
     "output_type": "display_data"
    },
    {
     "data": {
      "application/vnd.jupyter.widget-view+json": {
       "model_id": "658a3a8f77c3408b86ebd012b7b75a08",
       "version_major": 2,
       "version_minor": 0
      },
      "text/plain": [
       "interactive(children=(Select(description='Features', layout=Layout(height='175px', width='50%'), options=('Age…"
      ]
     },
     "metadata": {},
     "output_type": "display_data"
    },
    {
     "data": {
      "application/vnd.jupyter.widget-view+json": {
       "model_id": "ffd69ff3a94d4e5a903071be2a46fee9",
       "version_major": 2,
       "version_minor": 0
      },
      "text/plain": [
       "Button(description='Create JSON File from options', layout=Layout(bottom='5px', left='100px', width='40%'), st…"
      ]
     },
     "metadata": {},
     "output_type": "display_data"
    }
   ],
   "source": [
    "data_cleaner.data_cleaning_widget(df,\n",
    "                                  df_features)"
   ]
  },
  {
   "cell_type": "code",
   "execution_count": 20,
   "metadata": {},
   "outputs": [
    {
     "ename": "AttributeError",
     "evalue": "'DataCleaner' object has no attribute 'get_last_saved_json_file_path'",
     "output_type": "error",
     "traceback": [
      "\u001b[0;31m---------------------------------------------------------------------------\u001b[0m",
      "\u001b[0;31mAttributeError\u001b[0m                            Traceback (most recent call last)",
      "\u001b[0;32m<ipython-input-20-9df54fade74e>\u001b[0m in \u001b[0;36m<module>\u001b[0;34m\u001b[0m\n\u001b[0;32m----> 1\u001b[0;31m \u001b[0mdata_cleaner\u001b[0m\u001b[0;34m.\u001b[0m\u001b[0mget_last_saved_json_file_path\u001b[0m\u001b[0;34m(\u001b[0m\u001b[0;34m)\u001b[0m\u001b[0;34m\u001b[0m\u001b[0;34m\u001b[0m\u001b[0m\n\u001b[0m",
      "\u001b[0;31mAttributeError\u001b[0m: 'DataCleaner' object has no attribute 'get_last_saved_json_file_path'"
     ]
    }
   ],
   "source": [
    "data_cleaner.get_last_saved_json_file_path()"
   ]
  },
  {
   "cell_type": "code",
   "execution_count": null,
   "metadata": {},
   "outputs": [],
   "source": [
    "data_cleaner.data_cleaning_with_json_file(df,\n",
    "                                          data_cleaner.get_last_saved_json_file_path())"
   ]
  },
  {
   "cell_type": "code",
   "execution_count": null,
   "metadata": {},
   "outputs": [],
   "source": [
    "from impyute.imputation.cs import mice\n",
    "\n",
    "a = df[\"Age\"].tolist()\n",
    "# start the MICE training\n",
    "imputed_training=mice(df.values)"
   ]
  },
  {
   "cell_type": "code",
   "execution_count": null,
   "metadata": {},
   "outputs": [],
   "source": [
    "import datawig\n",
    "\n",
    "df_train, df_test = datawig.utils.random_split(df)\n",
    "\n",
    "#Initialize a SimpleImputer model\n",
    "imputer = datawig.SimpleImputer(\n",
    "    input_columns=['Survived', 'Pclass', 'Sex', 'SibSp', 'Parch', 'Fare', 'Cabin','Embarked'], # column(s) containing information about the column we want to impute\n",
    "    output_column= 'Age', # the column we'd like to impute values for\n",
    "    output_path = 'imputer_model' # stores model data and metrics\n",
    "    )\n",
    "\n",
    "#Fit an imputer model on the train data\n",
    "imputer.fit(train_df=df, num_epochs=200)"
   ]
  },
  {
   "cell_type": "code",
   "execution_count": null,
   "metadata": {},
   "outputs": [],
   "source": [
    "imputed_training=mice(df[df_features.get_numerical_features()].values)"
   ]
  },
  {
   "cell_type": "code",
   "execution_count": null,
   "metadata": {},
   "outputs": [],
   "source": [
    "# !pip install datawig\n",
    "# !pip install opencv-python\n",
    "# !pip install Pillow\n",
    "# !pip install tesserocr"
   ]
  },
  {
   "cell_type": "code",
   "execution_count": 21,
   "metadata": {},
   "outputs": [
    {
     "name": "stdout",
     "output_type": "stream",
     "text": [
      "714\n",
      "(714, 8)\n",
      "(714,)\n",
      "Bool Features: {'Cabin', 'Sex'}\n",
      "\n",
      "------------------------------------------------------------------------------------------\n",
      "Numerical Features: {'Parch', 'SibSp', 'Fare', 'Pclass', 'Age', 'Survived'}\n",
      "\n",
      "Integer Features: {'Parch', 'Pclass', 'SibSp', 'Survived'}\n",
      "\n",
      "Float Features: {'Age', 'Fare'}\n",
      "\n",
      "Target Feature: Survived\n",
      "\n"
     ]
    },
    {
     "data": {
      "text/plain": [
       "['Survived', 'Pclass', 'Sex', 'Age', 'SibSp', 'Parch', 'Fare', 'Cabin']"
      ]
     },
     "execution_count": 21,
     "metadata": {},
     "output_type": "execute_result"
    }
   ],
   "source": [
    "import random\n",
    "\n",
    "df[\"Cabin\"] = df[\"Cabin\"].fillna(\"A\")\n",
    "test = df.drop(columns=[\"Date_test\", \"Embarked\"]).dropna()\n",
    "\n",
    "test[\"Cabin\"] = df[\"Cabin\"] == \"B\"\n",
    "test[\"Sex\"] = df[\"Sex\"] == \"male\"\n",
    "test[target_column] = [random.randint(0, 5) for _ in range(0,test.shape[0])]\n",
    "print(len(test[target_column]))\n",
    "\n",
    "y = test[target_column].values\n",
    "X = test.values\n",
    "\n",
    "print(X.shape)\n",
    "print(y.shape)\n",
    "\n",
    "\n",
    "df_features = DataFrameTypes(test,\n",
    "                             target_column=target_column,\n",
    "                             ignore_nulls=True) \n",
    "df_features.get_all_features()"
   ]
  },
  {
   "cell_type": "code",
   "execution_count": 22,
   "metadata": {},
   "outputs": [],
   "source": [
    "X_train, X_test, y_train, y_test = train_test_split(\n",
    "    X, y, test_size=0.25, random_state=517, stratify=y,\n",
    ")"
   ]
  },
  {
   "cell_type": "code",
   "execution_count": 23,
   "metadata": {},
   "outputs": [
    {
     "name": "stdout",
     "output_type": "stream",
     "text": [
      "Tuned Parameters: {'criterion': 'entropy', 'max_depth': 2, 'min_samples_leaf': 80}\n",
      "Best score on trained data was 0.684112\n"
     ]
    },
    {
     "name": "stderr",
     "output_type": "stream",
     "text": [
      "/Users/ericcacciavillani/anaconda3/envs/Master_Project/lib/python3.6/site-packages/sklearn/model_selection/_search.py:813: DeprecationWarning: The default of the `iid` parameter will change from True to False in version 0.22 and will be removed in 0.24. This will change numeric results when test-set sizes are unequal.\n",
      "  DeprecationWarning)\n"
     ]
    }
   ],
   "source": [
    "from sklearn.tree import DecisionTreeClassifier\n",
    "from eFlow.ToolBox.Modeling import *\n",
    "# Find best parameters for model\n",
    "param_grid = {\n",
    "    \"max_depth\": list(range(2, 3)),\n",
    "    \"min_samples_leaf\": list(range(80, 130, 5)),\n",
    "    \"criterion\": [\"gini\", \"entropy\"],\n",
    "#     \"n_splits\": [20, 30]\n",
    "}\n",
    "\n",
    "model, best_params = optimize_model_grid(\n",
    "    model=DecisionTreeClassifier(),\n",
    "    X_train=X_train, y_train=y_train,\n",
    "    param_grid=param_grid\n",
    ")"
   ]
  },
  {
   "cell_type": "code",
   "execution_count": 24,
   "metadata": {},
   "outputs": [
    {
     "data": {
      "text/plain": [
       "<matplotlib.axes._subplots.AxesSubplot at 0x1c1ec3dac8>"
      ]
     },
     "execution_count": 24,
     "metadata": {},
     "output_type": "execute_result"
    },
    {
     "data": {
      "image/png": "[encoded data removed]",
      "text/plain": [
       "<Figure size 864x864 with 1 Axes>"
      ]
     },
     "metadata": {
      "needs_background": "light"
     },
     "output_type": "display_data"
    }
   ],
   "source": [
    "skplt.metrics.plot_roc(y_test, model.predict_proba(X_test),\n",
    "                      figsize=(12,12))"
   ]
  },
  {
   "cell_type": "code",
   "execution_count": 145,
   "metadata": {},
   "outputs": [],
   "source": [
    "from eFlow._Hidden.Objects.enum import enum\n",
    "from eFlow.Utils.SysUtils import create_plt_png, convert_to_filename, df_to_image, write_object_to_file, get_unique_directory_path\n",
    "from eFlow._Hidden.Objects.FileOutput import *\n",
    "from eFlow._Hidden.CustomExc import *\n",
    "from eFlow.Analysis.DataAnalysis import *\n",
    "\n",
    "from sklearn.metrics import accuracy_score\n",
    "from sklearn.metrics import f1_score\n",
    "from sklearn.metrics import matthews_corrcoef\n",
    "from sklearn.metrics import recall_score\n",
    "from sklearn.metrics import precision_score\n",
    "from sklearn.metrics import classification_report\n",
    "import scikitplot as skplt\n",
    "import numpy as np\n",
    "import warnings\n",
    "import copy\n",
    "import pickle\n",
    "import pandas as pd\n",
    "from IPython.display import display\n",
    "import matplotlib.pyplot as plt\n",
    "\n",
    "class ClassificationAnalysis(FileOutput):\n",
    "\n",
    "    def __init__(self,\n",
    "                 model,\n",
    "                 model_name,\n",
    "                 pred_funcs_dict,\n",
    "                 project_name=\"Supervised Analysis\",\n",
    "                 overwrite_full_path=None,\n",
    "                 notebook_mode=True,\n",
    "                 overwrite_target_classes=None,\n",
    "                 df_features=None):\n",
    "        \"\"\"\n",
    "        model:\n",
    "            A fitted supervised machine learning model.\n",
    "\n",
    "        model_name:\n",
    "            The name of the model in string form.\n",
    "        \n",
    "        pred_funcs_dict:\n",
    "            A dict of the name of the function and the function defintion for the \n",
    "            model prediction methods.\n",
    "            (Can handle either a return of probabilities or a singile value.)\n",
    "            \n",
    "            Init Example:\n",
    "            pred_funcs = dict()\n",
    "            pred_funcs[\"Predictions\"] = model.predict\n",
    "            pred_funcs[\"Probas\"] = model.probas\n",
    "\n",
    "        project_name:\n",
    "            Creates a parent or \"project\" folder in which all sub-directories\n",
    "            will be inner nested.\n",
    "\n",
    "        overwrite_full_path:\n",
    "            Overwrites the path to the parent folder.\n",
    "\n",
    "        notebook_mode:\n",
    "            If in a python notebook display in the notebook.\n",
    "            \n",
    "        df_features:\n",
    "            DataFrameTypeHolder object. If initalized we can run error analysis on\n",
    "\n",
    "        Returns/Desc:\n",
    "            Evaluates the given model based on the prediction functions pased to it.\n",
    "            Saves the model and other various.\n",
    "        \"\"\"\n",
    "\n",
    "        # Init any parent objects\n",
    "        FileOutput.__init__(self,\n",
    "                            f'{project_name}/{model_name}',\n",
    "                            overwrite_full_path)\n",
    "\n",
    "        # Init objectss by pass by refrence\n",
    "        self.__model = copy.deepcopy(model)\n",
    "        self.__model_name = copy.deepcopy(model_name)\n",
    "        self.__notebook_mode = copy.deepcopy(notebook_mode)\n",
    "        self.__target_values = copy.deepcopy(overwrite_target_classes)\n",
    "        self.__df_features = copy.deepcopy(df_features)\n",
    "        self.__pred_funcs_dict = copy.deepcopy(pred_funcs_dict)\n",
    "        self.__pred_funcs_types = dict()\n",
    "        \n",
    "        # Init on sklearns default target classes attribute\n",
    "        if not self.__target_values:\n",
    "            self.__target_values = model.classes_\n",
    "        # ---\n",
    "        if len(self.__target_values) != 2:\n",
    "            self.__binary_classifcation = False\n",
    "        else:\n",
    "            self.__binary_classifcation = True\n",
    "\n",
    "        # Save model\n",
    "        list_pickle = open(self.get_output_folder()\n",
    "                           + f'{self.__model_name}.pkl', 'wb')\n",
    "        pickle.dump(self.__model, list_pickle)\n",
    "        list_pickle.close()\n",
    "\n",
    "        if self.__pred_funcs_dict:\n",
    "            for pred_name, pred_func in self.__pred_funcs_dict.items():\n",
    "                model_output = pred_func(\n",
    "                    np.reshape(X_train[0],\n",
    "                               (-1, X_train.shape[1])))[0]\n",
    "\n",
    "                # Confidence / Probability (Continuous output)\n",
    "                if isinstance(model_output, list) or isinstance(model_output,\n",
    "                                                                np.ndarray):\n",
    "                    self.__pred_funcs_types[pred_name] = \"Probabilities\" \n",
    "\n",
    "                # Regression or Classification (Discrete output)\n",
    "                else:\n",
    "                    self.__pred_funcs_types[pred_name] = \"Predictions\"   \n",
    "                    print(\"hit\")\n",
    "        else:\n",
    "            # raise RequiresPredictionMethods\n",
    "            pass\n",
    "\n",
    "    def __get_model_prediction(self,\n",
    "                               pred_name,\n",
    "                               X,\n",
    "                               thresholds=None):\n",
    "        \"\"\"\n",
    "        X:\n",
    "            Feature matrix.\n",
    "\n",
    "        Thresholds:\n",
    "            If the model outputs a probability list/numpy array then we apply\n",
    "            thresholds to each classification.\n",
    "\n",
    "        Returns/Desc:\n",
    "            Returns back a predicted value based for a given matrix.\n",
    "        \"\"\"\n",
    "        print(self.__pred_funcs_types[pred_name])\n",
    "        if self.__pred_funcs_types[pred_name] == \"Predictions\":\n",
    "            return self.__pred_funcs_dict[pred_name](X)\n",
    "        \n",
    "        # Must be a probablity return\n",
    "        else:    \n",
    "            model_output = self.__get_model_probas(pred_name,\n",
    "                                                   X,\n",
    "                                                   thresholds)\n",
    "\n",
    "            return np.asarray([self.__target_values[np.argmax(proba)]\n",
    "                               for proba in model_output])\n",
    "            raise UnknownModelOutputType\n",
    "\n",
    "    def __get_model_probas(self,\n",
    "                           pred_name,\n",
    "                           X,\n",
    "                           thresholds=None):\n",
    "        \n",
    "        if self.__pred_funcs_types[pred_name] == \"Probabilities\":\n",
    "            model_output = self.__pred_funcs_dict[pred_name](X)\n",
    "            \n",
    "            # Validate probabilities\n",
    "            if thresholds:\n",
    "                if isinstance(thresholds, list) or \\\n",
    "                        isinstance(thresholds, np.ndarray):\n",
    "                    if sum(thresholds) != 1:\n",
    "                        print(\"Thresholds didn't add up to 100%! \"\n",
    "                              \"This may cause issues in your results!\")\n",
    "                    if len(thresholds) != len(self.__target_values):\n",
    "                        raise ThresholdLength\n",
    "                else:\n",
    "                    raise ThresholdType\n",
    "            \n",
    "            # ---\n",
    "            if isinstance(model_output, list):\n",
    "                model_output = np.asarray(model_output)\n",
    "\n",
    "            if isinstance(model_output, np.ndarray):\n",
    "                if thresholds:\n",
    "                    model_output = model_output - np.asarray(thresholds)\n",
    "            \n",
    "            return model_output\n",
    "        else:\n",
    "            raise ProbasNotPossible\n",
    "\n",
    "    def __create_sub_dir_with_thresholds(self,\n",
    "                                         pred_name,\n",
    "                                         dataset_name,\n",
    "                                         thresholds):\n",
    "        sub_dir = f'{dataset_name}/{pred_name}'\n",
    "        if self.__pred_funcs_types[pred_name] == \"Probabilities\":\n",
    "            print(self.__pred_funcs_types[pred_name])\n",
    "            if not thresholds:\n",
    "                sub_dir = f'{sub_dir}/No Thresholds'\n",
    "            else:\n",
    "                i = 0\n",
    "                sub_dir = f'{sub_dir}/Thresholds'\n",
    "                tmp_sub_dir = copy.deepcopy(sub_dir)\n",
    "                while True:\n",
    "                    threshold_dir = self.get_output_folder()\n",
    "                    if i > 0:\n",
    "                        tmp_sub_dir = (sub_dir + f' {i}')\n",
    "                    threshold_dir += tmp_sub_dir\n",
    "                    if os.path.exists(threshold_dir):\n",
    "                        if self.__compare_thresholds_to_saved_thresholds(threshold_dir,\n",
    "                                                                         thresholds):\n",
    "                            sub_dir = tmp_sub_dir\n",
    "                            break\n",
    "                    else:\n",
    "                        os.makedirs(threshold_dir)\n",
    "                        write_object_to_file(thresholds,\n",
    "                                             threshold_dir + \"/thresholds.txt\")\n",
    "                        sub_dir = tmp_sub_dir\n",
    "                        break\n",
    "                    \n",
    "                    i += 1\n",
    "#                 sub_dir += (\"/\" + get_unique_directory_path(self.get_output_folder() + sub_dir,\n",
    "#                                                             \"Thresholds\").split(\"/\")[-1])\n",
    "        return sub_dir\n",
    "    \n",
    "    def __compare_thresholds_to_saved_thresholds(self,\n",
    "                                                 directory_pth,\n",
    "                                                 thresholds):\n",
    "        file_directory = correct_directory_path(directory_pth) + \"thresholds.txt\"\n",
    "        \n",
    "        if os.path.exists(file_directory):\n",
    "        \n",
    "            file = open(file_directory, \"r\") \n",
    "            line = file.read()\n",
    "            converted_list = line.split(\"=\")[-1].strip().strip('][').split(', ')\n",
    "            converted_list = [float(val) for val in converted_list]\n",
    "\n",
    "            file.close()\n",
    "\n",
    "            if thresholds == converted_list:\n",
    "                return True\n",
    "            else:\n",
    "                return False\n",
    "        else:\n",
    "            return False\n",
    "\n",
    "    def peform_all(self,\n",
    "                   X,\n",
    "                   y,\n",
    "                   dataset_name,\n",
    "                   thresholds_matrix=None,\n",
    "                   normalize_confusion_matrix=True,\n",
    "                   ignore_metrics=[],\n",
    "                   custom_metrics=dict(),\n",
    "                   average_scoring=[\"micro\",\n",
    "                                  \"macro\",\n",
    "                                  \"weighted\"],\n",
    "                   display_graphs=False):\n",
    "        \"\"\"\n",
    "        X/y:\n",
    "            Feature matrix/Target data vector\n",
    "\n",
    "        dataset_name:\n",
    "            The dataset's name\n",
    "\n",
    "        normalize_confusion_matrix:\n",
    "            Normalize the confusion matrix buckets.\n",
    "\n",
    "        ignore_metrics:\n",
    "            Specify set metrics to ignore. (F1-Score, Accuracy etc)\n",
    "\n",
    "        ignore_metrics:\n",
    "            Specify the default metrics to not apply to the classification\n",
    "            analysis.\n",
    "                * Precision\n",
    "                * MCC\n",
    "                * Recall\n",
    "                * F1-Score\n",
    "                * Accuracy\n",
    "\n",
    "        average_scoring:\n",
    "            Determines the type of averaging performed on the data.\n",
    "\n",
    "        Returns/Desc:\n",
    "            Performs all classification functionality with the provided feature\n",
    "            data and target data.\n",
    "                * plot_precision_recall_curve\n",
    "                * classification_evaluation\n",
    "                * plot_confusion_matrix\n",
    "        \"\"\"\n",
    "        if isinstance(thresholds_matrix,np.ndarray):\n",
    "            thresholds_matrix = thresholds_matrix.tolist()\n",
    "        \n",
    "        if not thresholds_matrix:\n",
    "            thresholds_matrix = list()\n",
    "\n",
    "        if isinstance(thresholds_matrix,list) and not isinstance(thresholds_matrix[0],list):\n",
    "            thresholds_matrix = list(thresholds_matrix)\n",
    "\n",
    "        thresholds_matrix.append(None)\n",
    "            \n",
    "        print(\"\\n\\n\" + \"---\" * 10 + f'{dataset_name}' + \"---\" * 10)\n",
    "\n",
    "        for pred_name, pred_type in self.__pred_funcs_types.items():\n",
    "            print(f\"Now running classification on {pred_name}\")\n",
    "            \n",
    "            for thresholds in thresholds_matrix:\n",
    "                if pred_type == \"Predictions\":\n",
    "                    thresholds = None\n",
    "                \n",
    "                print(f'butt = {thresholds}')\n",
    "                self.classification_metrics(X,\n",
    "                                            y,\n",
    "                                            pred_name=pred_name,\n",
    "                                            dataset_name=dataset_name,\n",
    "                                            thresholds=thresholds,\n",
    "                                            ignore_metrics=ignore_metrics,\n",
    "                                            custom_metrics=custom_metrics,\n",
    "                                            filename=f'Evaluation on ' + \\\n",
    "                                            f'{dataset_name}',\n",
    "                                            average_scoring=average_scoring)\n",
    "    \n",
    "                tmp_filename = f'Confusion Matrix: {dataset_name} on {self.__model_name}'\n",
    "                self.plot_confusion_matrix(X,\n",
    "                                           y,\n",
    "                                           pred_name=pred_name,\n",
    "                                           dataset_name=dataset_name,\n",
    "                                           title=tmp_filename,\n",
    "                                           thresholds=thresholds,\n",
    "                                           normalize=normalize_confusion_matrix,\n",
    "                                           filename=tmp_filename)\n",
    "            \n",
    "                tmp_filename = f'Classification Report {dataset_name} on {self.__model_name}'\n",
    "                self.classification_report(X,\n",
    "                                           y,\n",
    "                                           pred_name=pred_name,\n",
    "                                           dataset_name=dataset_name,\n",
    "                                           thresholds=thresholds,\n",
    "                                           filename=tmp_filename)\n",
    "                if self.__df_features:\n",
    "                    self.classification_error_analysis(X,\n",
    "                                                       y,\n",
    "                                                       pred_name=pred_name,\n",
    "                                                       dataset_name=dataset_name,\n",
    "                                                       thresholds=thresholds,\n",
    "                                                       display_graphs=display_graphs)\n",
    "            \n",
    "\n",
    "    #                 if self.__binary_classification:\n",
    "    #                     skplt.metrics.plot_ks_statistic(y,\n",
    "    #                                                     self.__model.predict_proba(X),\n",
    "    #                                                     figsize=(10, 8))\n",
    "\n",
    "                \n",
    "                    if pred_type == \"Predictions\":\n",
    "                        break\n",
    "\n",
    "    #             if self.__proba_func:\n",
    "    #                 tmp_filename = f'Precision Recall Curve with Scores ' + \\\n",
    "    #                                f'on {dataset_name}'\n",
    "    #                 self.plot_precision_recall_curve(X,\n",
    "    #                                                  y,\n",
    "    #                                                  sub_dir=sub_dir,\n",
    "    #                                                  title=tmp_filename,\n",
    "    #                                                  filename=tmp_filename,\n",
    "    #                                                  thresholds=thresholds)\n",
    "\n",
    "\n",
    "#     def plot_precision_recall_curve(self,\n",
    "#                                     X,\n",
    "#                                     y,\n",
    "#                                     pred_name,\n",
    "#                                     dataset_name,\n",
    "#                                     thresholds=None,\n",
    "#                                     sub_dir=\"\",\n",
    "#                                     figsize=(10, 8),\n",
    "#                                     title=None,\n",
    "#                                     filename=None):\n",
    "#         \"\"\"\n",
    "#         X/y:\n",
    "#             Feature matrix/Target data vector.\n",
    "\n",
    "#         sub_dir:\n",
    "#             Specify a subdirectory to append to the output path of the file.\n",
    "\n",
    "#         figsize:\n",
    "#             Plot's size.\n",
    "\n",
    "#         title:\n",
    "#             Title of the plot.\n",
    "\n",
    "#         filename:\n",
    "#             Name of the file. If set to 'None' then don't create the file.\n",
    "\n",
    "#         Returns/Desc:\n",
    "\n",
    "#         \"\"\"\n",
    "#         if title:\n",
    "#             skplt.metrics.plot_precision_recall(self.get_model_probas(X),\n",
    "#                                                 y,\n",
    "#                                                 figsize=figsize,\n",
    "#                                                 title=title)\n",
    "#         else:\n",
    "#             skplt.metrics.plot_precision_recall(self.get_model_probas(X),\n",
    "#                                                 y,\n",
    "#                                                 figsize=figsize)\n",
    "\n",
    "#         if filename:\n",
    "#             create_plt_png(self.get_output_folder(),\n",
    "#                            sub_dir,\n",
    "#                            convert_to_filename(filename))\n",
    "\n",
    "#         if self.__notebook_mode:\n",
    "#             plt.show()\n",
    "#         plt.close()\n",
    "\n",
    "    def plot_confusion_matrix(self,\n",
    "                              X,\n",
    "                              y,\n",
    "                              pred_name,\n",
    "                              dataset_name,\n",
    "                              thresholds=None,\n",
    "                              figsize=(10, 8),\n",
    "                              title=None,\n",
    "                              filename=None,\n",
    "                              normalize=True):\n",
    "\n",
    "        sub_dir = self.__create_sub_dir_with_thresholds(pred_name,\n",
    "                                                        dataset_name,\n",
    "                                                        thresholds)\n",
    "\n",
    "        warnings.filterwarnings('ignore')\n",
    "        if title:\n",
    "            skplt.metrics.plot_confusion_matrix(self.__get_model_prediction(pred_name,\n",
    "                                                                            X,\n",
    "                                                                            thresholds),\n",
    "                                                y,\n",
    "                                                figsize=figsize,\n",
    "                                                title=title,\n",
    "                                                normalize=normalize,)\n",
    "        else:\n",
    "            skplt.metrics.plot_confusion_matrix(self.__get_model_prediction(pred_name,\n",
    "                                                                            X,\n",
    "                                                                            thresholds),\n",
    "                                                y,\n",
    "                                                figsize=figsize,\n",
    "                                                normalize=normalize)\n",
    "        warnings.filterwarnings('default')\n",
    "\n",
    "        if filename:\n",
    "            create_plt_png(self.get_output_folder(),\n",
    "                           sub_dir,\n",
    "                           convert_to_filename(filename))\n",
    "\n",
    "        if self.__notebook_mode:\n",
    "            plt.show()\n",
    "        plt.close()\n",
    "\n",
    "    def classification_metrics(self,\n",
    "                               X,\n",
    "                               y,\n",
    "                               pred_name,\n",
    "                               dataset_name,\n",
    "                               thresholds=None,\n",
    "                               title=\"\",\n",
    "                               sub_dir=\"\",\n",
    "                               filename=None,\n",
    "                               custom_metrics=dict(),\n",
    "                               ignore_metrics=[],\n",
    "                               average_scoring=[\"micro\",\n",
    "                                                \"macro\",\n",
    "                                                \"weighted\"]):\n",
    "        \"\"\"\n",
    "        X/y:\n",
    "            Feature matrix/Target data vector.\n",
    "\n",
    "        title:\n",
    "            Adds to the column 'Metric Score'.\n",
    "\n",
    "        sub_dir:\n",
    "            Specify a subdirectory to append to the output path of the file.\n",
    "\n",
    "        filename:\n",
    "            Name of the file. If set to 'None' then don't create the file.\n",
    "\n",
    "        custom_metrics:\n",
    "            Pass the name of metric(s) and the function definition(s) in a\n",
    "            dictionary.\n",
    "\n",
    "        ignore_metrics:\n",
    "            Specify the default metrics to not apply to the classification\n",
    "            analysis.\n",
    "                * Precision\n",
    "                * MCC\n",
    "                * Recall\n",
    "                * F1-Score\n",
    "                * Accuracy\n",
    "\n",
    "        average_scoring:\n",
    "            Determines the type of averaging performed on the data.\n",
    "                * micro\n",
    "                * macro\n",
    "                * weighted\n",
    "\n",
    "        Returns/Desc:\n",
    "            Creates/displays a dataframe object based on the model's\n",
    "            predictions on the feature matrix compared to target data.\n",
    "        \"\"\"\n",
    "        sub_dir = self.__create_sub_dir_with_thresholds(pred_name,\n",
    "                                                        dataset_name,\n",
    "                                                        thresholds)\n",
    "        \n",
    "        if not isinstance(average_scoring, list):\n",
    "            average_scoring = [average_scoring]\n",
    "\n",
    "        # Default metric name's and their function\n",
    "        metric_functions = dict()\n",
    "        metric_functions[\"Precision\"] = precision_score\n",
    "        metric_functions[\"MCC\"] = matthews_corrcoef\n",
    "        metric_functions[\"Recall\"] = recall_score\n",
    "        metric_functions[\"F1-Score\"] = f1_score\n",
    "        metric_functions[\"Accuracy\"] = accuracy_score\n",
    "\n",
    "        warnings.filterwarnings('ignore')\n",
    "\n",
    "        # Ignore default metrics if needed\n",
    "        for remove_metric in ignore_metrics:\n",
    "            if remove_metric in metric_functions:\n",
    "                del metric_functions[remove_metric]\n",
    "\n",
    "        # Add in custom metrics\n",
    "        if len(custom_metrics.keys()):\n",
    "            metric_functions.update(custom_metrics)\n",
    "\n",
    "        # Evaluate model on metrics\n",
    "        evaluation_report = dict()\n",
    "        for metric_name in metric_functions:\n",
    "            for average_score in average_scoring:\n",
    "\n",
    "                model_predictions = self.__get_model_prediction(pred_name,\n",
    "                                                                X,\n",
    "                                                                thresholds)\n",
    "                try:\n",
    "                    evaluation_report[f'{metric_name}({average_score})'] = \\\n",
    "                    metric_functions[metric_name](y_true=y,\n",
    "                                                  y_pred=model_predictions,\n",
    "                                                  average=average_score)\n",
    "                except TypeError:\n",
    "                    evaluation_report[metric_name] = metric_functions[\n",
    "                        metric_name](y,\n",
    "                                     model_predictions)\n",
    "                    break\n",
    "\n",
    "                except ValueError:\n",
    "                    pass\n",
    "\n",
    "        warnings.filterwarnings('default')\n",
    "\n",
    "        if len(title) > 0:\n",
    "            index_name = f\"Metric Scores ({title})\"\n",
    "        else:\n",
    "            index_name = \"Metric Scores\"\n",
    "\n",
    "        # ---\n",
    "        evaluation_report = pd.DataFrame({index_name:\n",
    "                                              [f'{metric_score:.4f}'\n",
    "                                               for metric_score\n",
    "                                               in evaluation_report.values()]},\n",
    "                                         index=list(evaluation_report.keys()))\n",
    "\n",
    "        if self.__notebook_mode:\n",
    "            display(evaluation_report)\n",
    "        else:\n",
    "            print(evaluation_report)\n",
    "\n",
    "        # Create image file\n",
    "        if filename:\n",
    "            df_to_image(evaluation_report,\n",
    "                        self.get_output_folder(),\n",
    "                        sub_dir,\n",
    "                        convert_to_filename(filename),\n",
    "                        col_width=20,\n",
    "                        show_index=True,\n",
    "                        format_float_pos=4)\n",
    "\n",
    "\n",
    "    def classification_error_analysis(self,\n",
    "                                      X,\n",
    "                                      y,\n",
    "                                      pred_name,\n",
    "                                      dataset_name,\n",
    "                                      thresholds=None,\n",
    "                                      display_graphs=False):\n",
    "        \n",
    "        sub_dir = self.__create_sub_dir_with_thresholds(pred_name,\n",
    "                                                        dataset_name,\n",
    "                                                        thresholds)\n",
    "\n",
    "        model_predictions = self.__get_model_prediction(pred_name,X,\n",
    "                                                        thresholds=thresholds)\n",
    "\n",
    "        if display_graphs:\n",
    "            print(\"\\n\\n\" + \"*\" * 10 +\n",
    "                  \"Correctly predicted analysis\"\n",
    "                  + \"*\" * 10 + \"\\n\")\n",
    "        else:\n",
    "            print(\"\\n\\n\" + \"*\" * 10 +\n",
    "                  \"Generating graphs for model's correctly predicted...\" +\n",
    "                  \"*\" * 10 + \"\\n\")\n",
    "        DataAnalysis(pd.DataFrame(X[model_predictions == y],\n",
    "                     columns=self.__df_features.get_all_features()),\n",
    "                     self.__df_features,\n",
    "                     overwrite_full_path=self.get_output_folder() +\n",
    "                                         sub_dir + \"/Correctly Predicted Data/\",\n",
    "                     missing_data_visuals=False,\n",
    "                     notebook_mode=display_graphs)\n",
    "\n",
    "\n",
    "        if display_graphs:\n",
    "            print(\"\\n\\n\" + \"*\" * 10 +\n",
    "                  \"Incorrectly predicted analysis\"\n",
    "                  + \"*\" * 10 + \"\\n\")\n",
    "        else:\n",
    "            print(\"\\n\\n\" + \"*\" * 10 +\n",
    "                  \"Generating graphs for model's incorrectly predicted...\" +\n",
    "                  \"*\" * 10 + \"\\n\")\n",
    "\n",
    "        DataAnalysis(pd.DataFrame(X[model_predictions != y],\n",
    "                     columns=self.__df_features.get_all_features()),\n",
    "                     self.__df_features,\n",
    "                     overwrite_full_path=self.get_output_folder() +\n",
    "                                         sub_dir + \"/Incorrectly Predicted Data/\",\n",
    "                     missing_data_visuals=False,\n",
    "                     notebook_mode=display_graphs)\n",
    "\n",
    "    def classification_report(self,\n",
    "                              X,\n",
    "                              y,\n",
    "                              pred_name,\n",
    "                              dataset_name,\n",
    "                              thresholds=None,\n",
    "                              filename=None):\n",
    "        \n",
    "        sub_dir = self.__create_sub_dir_with_thresholds(pred_name,\n",
    "                                                        dataset_name,\n",
    "                                                        thresholds)\n",
    "        \n",
    "        report_df = pd.DataFrame(classification_report(y,\n",
    "                                                       self.__get_model_prediction(pred_name,\n",
    "                                                                                   X,\n",
    "                                                                                   thresholds),\n",
    "                                                       output_dict=True))\n",
    "\n",
    "        if self.__notebook_mode:\n",
    "            display(report_df)\n",
    "\n",
    "        if filename:\n",
    "            df_to_image(report_df,\n",
    "                        self.get_output_folder(),\n",
    "                        sub_dir,\n",
    "                        filename,\n",
    "                        col_width=20,\n",
    "                        show_index=True,\n",
    "                        format_float_pos=4)"
   ]
  },
  {
   "cell_type": "code",
   "execution_count": 146,
   "metadata": {},
   "outputs": [
    {
     "name": "stdout",
     "output_type": "stream",
     "text": [
      "hit\n",
      "\n",
      "\n",
      "------------------------------Training Data------------------------------\n",
      "Now running classification on Probabilities function\n",
      "butt = [0.2, 0.2, 0.2, 0.2, 0.2, 0.2]\n",
      "Probabilities\n",
      "Probabilities\n",
      "Thresholds didn't add up to 100%! This may cause issues in your results!\n",
      "Probabilities\n",
      "Thresholds didn't add up to 100%! This may cause issues in your results!\n",
      "Probabilities\n",
      "Thresholds didn't add up to 100%! This may cause issues in your results!\n",
      "Probabilities\n",
      "Thresholds didn't add up to 100%! This may cause issues in your results!\n",
      "Probabilities\n",
      "Thresholds didn't add up to 100%! This may cause issues in your results!\n",
      "Probabilities\n",
      "Thresholds didn't add up to 100%! This may cause issues in your results!\n",
      "Probabilities\n",
      "Thresholds didn't add up to 100%! This may cause issues in your results!\n",
      "Probabilities\n",
      "Thresholds didn't add up to 100%! This may cause issues in your results!\n",
      "Probabilities\n",
      "Thresholds didn't add up to 100%! This may cause issues in your results!\n",
      "Probabilities\n",
      "Thresholds didn't add up to 100%! This may cause issues in your results!\n",
      "Probabilities\n",
      "Thresholds didn't add up to 100%! This may cause issues in your results!\n"
     ]
    },
    {
     "data": {
      "text/html": [
       "<div>\n",
       "<style scoped>\n",
       "    .dataframe tbody tr th:only-of-type {\n",
       "        vertical-align: middle;\n",
       "    }\n",
       "\n",
       "    .dataframe tbody tr th {\n",
       "        vertical-align: top;\n",
       "    }\n",
       "\n",
       "    .dataframe thead th {\n",
       "        text-align: right;\n",
       "    }\n",
       "</style>\n",
       "<table border=\"1\" class=\"dataframe\">\n",
       "  <thead>\n",
       "    <tr style=\"text-align: right;\">\n",
       "      <th></th>\n",
       "      <th>Metric Scores</th>\n",
       "    </tr>\n",
       "  </thead>\n",
       "  <tbody>\n",
       "    <tr>\n",
       "      <th>Precision(micro)</th>\n",
       "      <td>0.6841</td>\n",
       "    </tr>\n",
       "    <tr>\n",
       "      <th>Precision(macro)</th>\n",
       "      <td>0.5067</td>\n",
       "    </tr>\n",
       "    <tr>\n",
       "      <th>Precision(weighted)</th>\n",
       "      <td>0.5200</td>\n",
       "    </tr>\n",
       "    <tr>\n",
       "      <th>MCC</th>\n",
       "      <td>0.6602</td>\n",
       "    </tr>\n",
       "    <tr>\n",
       "      <th>Recall(micro)</th>\n",
       "      <td>0.6841</td>\n",
       "    </tr>\n",
       "    <tr>\n",
       "      <th>Recall(macro)</th>\n",
       "      <td>0.6667</td>\n",
       "    </tr>\n",
       "    <tr>\n",
       "      <th>Recall(weighted)</th>\n",
       "      <td>0.6841</td>\n",
       "    </tr>\n",
       "    <tr>\n",
       "      <th>F1-Score(micro)</th>\n",
       "      <td>0.6841</td>\n",
       "    </tr>\n",
       "    <tr>\n",
       "      <th>F1-Score(macro)</th>\n",
       "      <td>0.5614</td>\n",
       "    </tr>\n",
       "    <tr>\n",
       "      <th>F1-Score(weighted)</th>\n",
       "      <td>0.5761</td>\n",
       "    </tr>\n",
       "    <tr>\n",
       "      <th>Accuracy</th>\n",
       "      <td>0.6841</td>\n",
       "    </tr>\n",
       "  </tbody>\n",
       "</table>\n",
       "</div>"
      ],
      "text/plain": [
       "                    Metric Scores\n",
       "Precision(micro)           0.6841\n",
       "Precision(macro)           0.5067\n",
       "Precision(weighted)        0.5200\n",
       "MCC                        0.6602\n",
       "Recall(micro)              0.6841\n",
       "Recall(macro)              0.6667\n",
       "Recall(weighted)           0.6841\n",
       "F1-Score(micro)            0.6841\n",
       "F1-Score(macro)            0.5614\n",
       "F1-Score(weighted)         0.5761\n",
       "Accuracy                   0.6841"
      ]
     },
     "metadata": {},
     "output_type": "display_data"
    },
    {
     "name": "stdout",
     "output_type": "stream",
     "text": [
      "Probabilities\n",
      "Probabilities\n",
      "Thresholds didn't add up to 100%! This may cause issues in your results!\n"
     ]
    },
    {
     "data": {
      "image/png": "[encoded data removed]",
      "text/plain": [
       "<Figure size 720x576 with 2 Axes>"
      ]
     },
     "metadata": {
      "needs_background": "light"
     },
     "output_type": "display_data"
    },
    {
     "name": "stdout",
     "output_type": "stream",
     "text": [
      "Probabilities\n",
      "Probabilities\n",
      "Thresholds didn't add up to 100%! This may cause issues in your results!\n"
     ]
    },
    {
     "name": "stderr",
     "output_type": "stream",
     "text": [
      "/Users/ericcacciavillani/anaconda3/envs/Master_Project/lib/python3.6/site-packages/sklearn/metrics/classification.py:1437: UndefinedMetricWarning: Precision and F-score are ill-defined and being set to 0.0 in labels with no predicted samples.\n",
      "  'precision', 'predicted', average, warn_for)\n"
     ]
    },
    {
     "data": {
      "text/html": [
       "<div>\n",
       "<style scoped>\n",
       "    .dataframe tbody tr th:only-of-type {\n",
       "        vertical-align: middle;\n",
       "    }\n",
       "\n",
       "    .dataframe tbody tr th {\n",
       "        vertical-align: top;\n",
       "    }\n",
       "\n",
       "    .dataframe thead th {\n",
       "        text-align: right;\n",
       "    }\n",
       "</style>\n",
       "<table border=\"1\" class=\"dataframe\">\n",
       "  <thead>\n",
       "    <tr style=\"text-align: right;\">\n",
       "      <th></th>\n",
       "      <th>0</th>\n",
       "      <th>1</th>\n",
       "      <th>2</th>\n",
       "      <th>3</th>\n",
       "      <th>4</th>\n",
       "      <th>5</th>\n",
       "      <th>accuracy</th>\n",
       "      <th>macro avg</th>\n",
       "      <th>weighted avg</th>\n",
       "    </tr>\n",
       "  </thead>\n",
       "  <tbody>\n",
       "    <tr>\n",
       "      <th>f1-score</th>\n",
       "      <td>1.0</td>\n",
       "      <td>0.696629</td>\n",
       "      <td>0.0</td>\n",
       "      <td>1.0</td>\n",
       "      <td>0.671642</td>\n",
       "      <td>0.0</td>\n",
       "      <td>0.684112</td>\n",
       "      <td>0.561379</td>\n",
       "      <td>0.576139</td>\n",
       "    </tr>\n",
       "    <tr>\n",
       "      <th>precision</th>\n",
       "      <td>1.0</td>\n",
       "      <td>0.534483</td>\n",
       "      <td>0.0</td>\n",
       "      <td>1.0</td>\n",
       "      <td>0.505618</td>\n",
       "      <td>0.0</td>\n",
       "      <td>0.684112</td>\n",
       "      <td>0.506683</td>\n",
       "      <td>0.520023</td>\n",
       "    </tr>\n",
       "    <tr>\n",
       "      <th>recall</th>\n",
       "      <td>1.0</td>\n",
       "      <td>1.000000</td>\n",
       "      <td>0.0</td>\n",
       "      <td>1.0</td>\n",
       "      <td>1.000000</td>\n",
       "      <td>0.0</td>\n",
       "      <td>0.684112</td>\n",
       "      <td>0.666667</td>\n",
       "      <td>0.684112</td>\n",
       "    </tr>\n",
       "    <tr>\n",
       "      <th>support</th>\n",
       "      <td>90.0</td>\n",
       "      <td>93.000000</td>\n",
       "      <td>81.0</td>\n",
       "      <td>93.0</td>\n",
       "      <td>90.000000</td>\n",
       "      <td>88.0</td>\n",
       "      <td>0.684112</td>\n",
       "      <td>535.000000</td>\n",
       "      <td>535.000000</td>\n",
       "    </tr>\n",
       "  </tbody>\n",
       "</table>\n",
       "</div>"
      ],
      "text/plain": [
       "              0          1     2     3          4     5  accuracy   macro avg  \\\n",
       "f1-score    1.0   0.696629   0.0   1.0   0.671642   0.0  0.684112    0.561379   \n",
       "precision   1.0   0.534483   0.0   1.0   0.505618   0.0  0.684112    0.506683   \n",
       "recall      1.0   1.000000   0.0   1.0   1.000000   0.0  0.684112    0.666667   \n",
       "support    90.0  93.000000  81.0  93.0  90.000000  88.0  0.684112  535.000000   \n",
       "\n",
       "           weighted avg  \n",
       "f1-score       0.576139  \n",
       "precision      0.520023  \n",
       "recall         0.684112  \n",
       "support      535.000000  "
      ]
     },
     "metadata": {},
     "output_type": "display_data"
    },
    {
     "name": "stdout",
     "output_type": "stream",
     "text": [
      "Probabilities\n"
     ]
    },
    {
     "ename": "AttributeError",
     "evalue": "'ClassificationAnalysis' object has no attribute 'get_model_prediction'",
     "output_type": "error",
     "traceback": [
      "\u001b[0;31m---------------------------------------------------------------------------\u001b[0m",
      "\u001b[0;31mAttributeError\u001b[0m                            Traceback (most recent call last)",
      "\u001b[0;32m<ipython-input-146-27953252fade>\u001b[0m in \u001b[0;36m<module>\u001b[0;34m\u001b[0m\n\u001b[1;32m     11\u001b[0m                        \u001b[0mdataset_name\u001b[0m\u001b[0;34m=\u001b[0m\u001b[0;34m\"Training Data\"\u001b[0m\u001b[0;34m,\u001b[0m\u001b[0;34m\u001b[0m\u001b[0;34m\u001b[0m\u001b[0m\n\u001b[1;32m     12\u001b[0m                        thresholds_matrix=[[.2,.2,.2,.2,.2,.2],\n\u001b[0;32m---> 13\u001b[0;31m                                           \u001b[0;34m[\u001b[0m\u001b[0;36m.1\u001b[0m\u001b[0;34m,\u001b[0m\u001b[0;36m.9\u001b[0m\u001b[0;34m,\u001b[0m\u001b[0;36m.95\u001b[0m\u001b[0;34m,\u001b[0m\u001b[0;36m.15\u001b[0m\u001b[0;34m,\u001b[0m\u001b[0;36m.2\u001b[0m\u001b[0;34m,\u001b[0m\u001b[0;34m-\u001b[0m\u001b[0;36m.20\u001b[0m\u001b[0;34m]\u001b[0m\u001b[0;34m\u001b[0m\u001b[0;34m\u001b[0m\u001b[0m\n\u001b[0m\u001b[1;32m     14\u001b[0m                                          ])\n",
      "\u001b[0;32m<ipython-input-145-105f13bd7314>\u001b[0m in \u001b[0;36mpeform_all\u001b[0;34m(self, X, y, dataset_name, thresholds_matrix, normalize_confusion_matrix, ignore_metrics, custom_metrics, average_scoring, display_graphs)\u001b[0m\n\u001b[1;32m    330\u001b[0m                                                        \u001b[0mdataset_name\u001b[0m\u001b[0;34m=\u001b[0m\u001b[0mdataset_name\u001b[0m\u001b[0;34m,\u001b[0m\u001b[0;34m\u001b[0m\u001b[0;34m\u001b[0m\u001b[0m\n\u001b[1;32m    331\u001b[0m                                                        \u001b[0mthresholds\u001b[0m\u001b[0;34m=\u001b[0m\u001b[0mthresholds\u001b[0m\u001b[0;34m,\u001b[0m\u001b[0;34m\u001b[0m\u001b[0;34m\u001b[0m\u001b[0m\n\u001b[0;32m--> 332\u001b[0;31m                                                        display_graphs=display_graphs)\n\u001b[0m\u001b[1;32m    333\u001b[0m \u001b[0;34m\u001b[0m\u001b[0m\n\u001b[1;32m    334\u001b[0m \u001b[0;34m\u001b[0m\u001b[0m\n",
      "\u001b[0;32m<ipython-input-145-105f13bd7314>\u001b[0m in \u001b[0;36mclassification_error_analysis\u001b[0;34m(self, X, y, pred_name, dataset_name, thresholds, display_graphs)\u001b[0m\n\u001b[1;32m    583\u001b[0m                                                         thresholds)\n\u001b[1;32m    584\u001b[0m \u001b[0;34m\u001b[0m\u001b[0m\n\u001b[0;32m--> 585\u001b[0;31m         model_predictions = self.get_model_prediction(X,\n\u001b[0m\u001b[1;32m    586\u001b[0m                                                       thresholds=thresholds)\n\u001b[1;32m    587\u001b[0m \u001b[0;34m\u001b[0m\u001b[0m\n",
      "\u001b[0;31mAttributeError\u001b[0m: 'ClassificationAnalysis' object has no attribute 'get_model_prediction'"
     ]
    }
   ],
   "source": [
    "dt_analysis = ClassificationAnalysis(model=model,\n",
    "                                     pred_funcs_dict={\"Probabilities function\":model.predict_proba,\n",
    "                                                      \"Predict function\":model.predict},\n",
    "                                     model_name=repr(model).split(\"(\")[0],\n",
    "                                     project_name=f'{parent_project_name}/Supervised Analysis',\n",
    "                                     notebook_mode=True,\n",
    "                                     df_features=df_features)\n",
    "\n",
    "dt_analysis.peform_all(X=X_train,\n",
    "                       y=y_train,\n",
    "                       dataset_name=\"Training Data\",\n",
    "                       thresholds_matrix=[[.2,.2,.2,.2,.2,.2],\n",
    "                                          [.1,.9,.95,.15,.2,-.20]\n",
    "                                         ])"
   ]
  },
  {
   "cell_type": "code",
   "execution_count": 48,
   "metadata": {},
   "outputs": [],
   "source": []
  },
  {
   "cell_type": "code",
   "execution_count": 49,
   "metadata": {},
   "outputs": [
    {
     "data": {
      "text/plain": [
       "False"
      ]
     },
     "execution_count": 49,
     "metadata": {},
     "output_type": "execute_result"
    }
   ],
   "source": [
    "os.path.exists(\"/Users/ericcacciavillani/Desktop/Coding/Python_Files/Artificial_Intelligence/Data Mining/eFlowMaster/Testing/eFlow Data/Pre processing/Supervised Analysis/DecisionTreeClassifier/Probabilities function/Thresholds\")"
   ]
  },
  {
   "cell_type": "code",
   "execution_count": null,
   "metadata": {},
   "outputs": [],
   "source": [
    "get_unique_directory_path(os.getcwd() + \"/eFlow Data/Pre processing/Supervised Analysis/DecisionTreeClassifier/Test data/Probability Classification/\",\n",
    "                        \"Model Results\")"
   ]
  },
  {
   "cell_type": "code",
   "execution_count": null,
   "metadata": {},
   "outputs": [],
   "source": [
    "error_string = os.getcwd().replace(\"/\", \"///\")\n",
    "error_string"
   ]
  },
  {
   "cell_type": "code",
   "execution_count": null,
   "metadata": {},
   "outputs": [],
   "source": [
    "ab = \"/Users/ericcacciavillani/Desktop/Coding/Python_Files/Artificial_Intelligence/Data Mining/eFlowMaster/Testing/eFlow Data/Pre processing/Supervised Analysis/DecisionTreeClassifier/Test data/Probability Classification\"\n",
    "correct_directory_path(ab)"
   ]
  },
  {
   "cell_type": "code",
   "execution_count": null,
   "metadata": {},
   "outputs": [],
   "source": [
    "a=[[1,2],[1,2,3],[1]]\n",
    "c = copy.deepcopy(a)\n",
    "b=np.array(a)\n",
    "b.tolist()\n",
    "hhh = None\n",
    "if hhh:\n",
    "    print(\"test\")"
   ]
  },
  {
   "cell_type": "code",
   "execution_count": 73,
   "metadata": {},
   "outputs": [
    {
     "name": "stdout",
     "output_type": "stream",
     "text": [
      "test\n"
     ]
    }
   ],
   "source": [
    "bbb = None\n",
    "\n",
    "if not bbb:\n",
    "    print(\"test\")\n",
    "else:\n",
    "    print(\"fff\")"
   ]
  },
  {
   "cell_type": "code",
   "execution_count": null,
   "metadata": {},
   "outputs": [],
   "source": [
    "a == [1,2,3]"
   ]
  },
  {
   "cell_type": "code",
   "execution_count": null,
   "metadata": {},
   "outputs": [],
   "source": [
    "c"
   ]
  },
  {
   "cell_type": "code",
   "execution_count": null,
   "metadata": {},
   "outputs": [],
   "source": []
  }
 ],
 "metadata": {
  "kernelspec": {
   "display_name": "Python 3",
   "language": "python",
   "name": "python3"
  },
  "language_info": {
   "codemirror_mode": {
    "name": "ipython",
    "version": 3
   },
   "file_extension": ".py",
   "mimetype": "text/x-python",
   "name": "python",
   "nbconvert_exporter": "python",
   "pygments_lexer": "ipython3",
   "version": "3.6.8"
  }
 },
 "nbformat": 4,
 "nbformat_minor": 4
}
