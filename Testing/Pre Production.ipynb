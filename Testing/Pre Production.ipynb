{
 "cells": [
  {
   "cell_type": "markdown",
   "metadata": {},
   "source": [
    "# Import libs"
   ]
  },
  {
   "cell_type": "code",
   "execution_count": 1,
   "metadata": {},
   "outputs": [],
   "source": [
    "import pandas as pd\n",
    "import numpy as np \n",
    "from sklearn.tree import DecisionTreeClassifier\n",
    "from sklearn.model_selection import train_test_split\n",
    "import sys\n",
    "\n",
    "sys.path.append('..')\n",
    "from eFlow.ClusterMaster import *\n",
    "from eFlow.DataFrameTypes import *\n",
    "from eFlow.Analysis.DataAnalysis import *\n",
    "from eFlow.PipelineSegments.DataCleaner import *\n",
    "from xgboost import XGBClassifier\n",
    "import ipython_blocking\n",
    "from pivottablejs import pivot_ui\n",
    "import scikitplot as skplt"
   ]
  },
  {
   "cell_type": "code",
   "execution_count": 2,
   "metadata": {},
   "outputs": [],
   "source": [
    "%matplotlib notebook\n",
    "%matplotlib inline"
   ]
  },
  {
   "cell_type": "markdown",
   "metadata": {},
   "source": [
    "### Be sure to run the following"
   ]
  },
  {
   "cell_type": "markdown",
   "metadata": {},
   "source": [
    "## Declare Worflow Variables"
   ]
  },
  {
   "cell_type": "markdown",
   "metadata": {},
   "source": [
    "#### (This should be the only place you should have to declare anything)"
   ]
  },
  {
   "cell_type": "code",
   "execution_count": 3,
   "metadata": {},
   "outputs": [],
   "source": [
    "dataset_path = \"Datasets/titanic_train.csv\"\n",
    "target_column = \"Survived\"\n",
    "parent_project_name = \"Pre processing\"\n",
    "prediction_method = \"Classification\"\n",
    "notebook_mode = True"
   ]
  },
  {
   "cell_type": "markdown",
   "metadata": {},
   "source": [
    "# Import dataset"
   ]
  },
  {
   "cell_type": "code",
   "execution_count": 4,
   "metadata": {},
   "outputs": [
    {
     "data": {
      "text/plain": [
       "(891, 12)"
      ]
     },
     "metadata": {},
     "output_type": "display_data"
    },
    {
     "data": {
      "text/html": [
       "<div>\n",
       "<style scoped>\n",
       "    .dataframe tbody tr th:only-of-type {\n",
       "        vertical-align: middle;\n",
       "    }\n",
       "\n",
       "    .dataframe tbody tr th {\n",
       "        vertical-align: top;\n",
       "    }\n",
       "\n",
       "    .dataframe thead th {\n",
       "        text-align: right;\n",
       "    }\n",
       "</style>\n",
       "<table border=\"1\" class=\"dataframe\">\n",
       "  <thead>\n",
       "    <tr style=\"text-align: right;\">\n",
       "      <th></th>\n",
       "      <th>PassengerId</th>\n",
       "      <th>Survived</th>\n",
       "      <th>Pclass</th>\n",
       "      <th>Name</th>\n",
       "      <th>Sex</th>\n",
       "      <th>Age</th>\n",
       "      <th>SibSp</th>\n",
       "      <th>Parch</th>\n",
       "      <th>Ticket</th>\n",
       "      <th>Fare</th>\n",
       "      <th>Cabin</th>\n",
       "      <th>Embarked</th>\n",
       "    </tr>\n",
       "  </thead>\n",
       "  <tbody>\n",
       "    <tr>\n",
       "      <th>0</th>\n",
       "      <td>1</td>\n",
       "      <td>0</td>\n",
       "      <td>3</td>\n",
       "      <td>Braund, Mr. Owen Harris</td>\n",
       "      <td>male</td>\n",
       "      <td>22.0</td>\n",
       "      <td>1</td>\n",
       "      <td>0</td>\n",
       "      <td>A/5 21171</td>\n",
       "      <td>7.2500</td>\n",
       "      <td>NaN</td>\n",
       "      <td>S</td>\n",
       "    </tr>\n",
       "    <tr>\n",
       "      <th>1</th>\n",
       "      <td>2</td>\n",
       "      <td>1</td>\n",
       "      <td>1</td>\n",
       "      <td>Cumings, Mrs. John Bradley (Florence Briggs Th...</td>\n",
       "      <td>female</td>\n",
       "      <td>38.0</td>\n",
       "      <td>1</td>\n",
       "      <td>0</td>\n",
       "      <td>PC 17599</td>\n",
       "      <td>71.2833</td>\n",
       "      <td>C85</td>\n",
       "      <td>C</td>\n",
       "    </tr>\n",
       "    <tr>\n",
       "      <th>2</th>\n",
       "      <td>3</td>\n",
       "      <td>1</td>\n",
       "      <td>3</td>\n",
       "      <td>Heikkinen, Miss. Laina</td>\n",
       "      <td>female</td>\n",
       "      <td>26.0</td>\n",
       "      <td>0</td>\n",
       "      <td>0</td>\n",
       "      <td>STON/O2. 3101282</td>\n",
       "      <td>7.9250</td>\n",
       "      <td>NaN</td>\n",
       "      <td>S</td>\n",
       "    </tr>\n",
       "    <tr>\n",
       "      <th>3</th>\n",
       "      <td>4</td>\n",
       "      <td>1</td>\n",
       "      <td>1</td>\n",
       "      <td>Futrelle, Mrs. Jacques Heath (Lily May Peel)</td>\n",
       "      <td>female</td>\n",
       "      <td>35.0</td>\n",
       "      <td>1</td>\n",
       "      <td>0</td>\n",
       "      <td>113803</td>\n",
       "      <td>53.1000</td>\n",
       "      <td>C123</td>\n",
       "      <td>S</td>\n",
       "    </tr>\n",
       "    <tr>\n",
       "      <th>4</th>\n",
       "      <td>5</td>\n",
       "      <td>0</td>\n",
       "      <td>3</td>\n",
       "      <td>Allen, Mr. William Henry</td>\n",
       "      <td>male</td>\n",
       "      <td>35.0</td>\n",
       "      <td>0</td>\n",
       "      <td>0</td>\n",
       "      <td>373450</td>\n",
       "      <td>8.0500</td>\n",
       "      <td>NaN</td>\n",
       "      <td>S</td>\n",
       "    </tr>\n",
       "  </tbody>\n",
       "</table>\n",
       "</div>"
      ],
      "text/plain": [
       "   PassengerId  Survived  Pclass  \\\n",
       "0            1         0       3   \n",
       "1            2         1       1   \n",
       "2            3         1       3   \n",
       "3            4         1       1   \n",
       "4            5         0       3   \n",
       "\n",
       "                                                Name     Sex   Age  SibSp  \\\n",
       "0                            Braund, Mr. Owen Harris    male  22.0      1   \n",
       "1  Cumings, Mrs. John Bradley (Florence Briggs Th...  female  38.0      1   \n",
       "2                             Heikkinen, Miss. Laina  female  26.0      0   \n",
       "3       Futrelle, Mrs. Jacques Heath (Lily May Peel)  female  35.0      1   \n",
       "4                           Allen, Mr. William Henry    male  35.0      0   \n",
       "\n",
       "   Parch            Ticket     Fare Cabin Embarked  \n",
       "0      0         A/5 21171   7.2500   NaN        S  \n",
       "1      0          PC 17599  71.2833   C85        C  \n",
       "2      0  STON/O2. 3101282   7.9250   NaN        S  \n",
       "3      0            113803  53.1000  C123        S  \n",
       "4      0            373450   8.0500   NaN        S  "
      ]
     },
     "execution_count": 4,
     "metadata": {},
     "output_type": "execute_result"
    }
   ],
   "source": [
    "df = pd.read_csv(dataset_path)\n",
    "display(df.shape)\n",
    "df.head()"
   ]
  },
  {
   "cell_type": "markdown",
   "metadata": {},
   "source": [
    "## Interaction tool for dataframes"
   ]
  },
  {
   "cell_type": "markdown",
   "metadata": {},
   "source": [
    "### Explore the data"
   ]
  },
  {
   "cell_type": "code",
   "execution_count": 5,
   "metadata": {},
   "outputs": [
    {
     "data": {
      "text/html": [
       "\n",
       "        <iframe\n",
       "            width=\"100%\"\n",
       "            height=\"500\"\n",
       "            src=\"Piviot_Table_JS.html\"\n",
       "            frameborder=\"0\"\n",
       "            allowfullscreen\n",
       "        ></iframe>\n",
       "        "
      ],
      "text/plain": [
       "<IPython.lib.display.IFrame at 0x1c199ad278>"
      ]
     },
     "execution_count": 5,
     "metadata": {},
     "output_type": "execute_result"
    }
   ],
   "source": [
    "pivot_ui(df,\n",
    "         outfile_path='Piviot_Table_JS.html')"
   ]
  },
  {
   "cell_type": "code",
   "execution_count": 6,
   "metadata": {},
   "outputs": [],
   "source": [
    "# w = widgets.SelectMultiple(\n",
    "#     options=['Apples', 'Oranges', 'Pears'],\n",
    "#     value=['Oranges'],\n",
    "#     #rows=10,\n",
    "#     description='Fruits',\n",
    "#     disabled=False\n",
    "# )\n",
    "# del w"
   ]
  },
  {
   "cell_type": "code",
   "execution_count": 7,
   "metadata": {},
   "outputs": [
    {
     "name": "stdout",
     "output_type": "stream",
     "text": [
      "→\n"
     ]
    }
   ],
   "source": [
    "a = str(u\"\\u2192\")\n",
    "print(a)"
   ]
  },
  {
   "cell_type": "markdown",
   "metadata": {},
   "source": [
    "## Remove Un-Wanted Columns"
   ]
  },
  {
   "cell_type": "markdown",
   "metadata": {},
   "source": [
    "### Do not remove nans yet, let the datacleaner do it's job"
   ]
  },
  {
   "cell_type": "code",
   "execution_count": 8,
   "metadata": {},
   "outputs": [
    {
     "data": {
      "text/html": [
       "<div>\n",
       "<style scoped>\n",
       "    .dataframe tbody tr th:only-of-type {\n",
       "        vertical-align: middle;\n",
       "    }\n",
       "\n",
       "    .dataframe tbody tr th {\n",
       "        vertical-align: top;\n",
       "    }\n",
       "\n",
       "    .dataframe thead th {\n",
       "        text-align: right;\n",
       "    }\n",
       "</style>\n",
       "<table border=\"1\" class=\"dataframe\">\n",
       "  <thead>\n",
       "    <tr style=\"text-align: right;\">\n",
       "      <th></th>\n",
       "      <th>Survived</th>\n",
       "      <th>Pclass</th>\n",
       "      <th>Sex</th>\n",
       "      <th>Age</th>\n",
       "      <th>SibSp</th>\n",
       "      <th>Parch</th>\n",
       "      <th>Fare</th>\n",
       "      <th>Cabin</th>\n",
       "      <th>Embarked</th>\n",
       "    </tr>\n",
       "  </thead>\n",
       "  <tbody>\n",
       "    <tr>\n",
       "      <th>0</th>\n",
       "      <td>0</td>\n",
       "      <td>3</td>\n",
       "      <td>male</td>\n",
       "      <td>22.0</td>\n",
       "      <td>1</td>\n",
       "      <td>0</td>\n",
       "      <td>7.2500</td>\n",
       "      <td>NaN</td>\n",
       "      <td>S</td>\n",
       "    </tr>\n",
       "    <tr>\n",
       "      <th>1</th>\n",
       "      <td>1</td>\n",
       "      <td>1</td>\n",
       "      <td>female</td>\n",
       "      <td>38.0</td>\n",
       "      <td>1</td>\n",
       "      <td>0</td>\n",
       "      <td>71.2833</td>\n",
       "      <td>C85</td>\n",
       "      <td>C</td>\n",
       "    </tr>\n",
       "    <tr>\n",
       "      <th>2</th>\n",
       "      <td>1</td>\n",
       "      <td>3</td>\n",
       "      <td>female</td>\n",
       "      <td>26.0</td>\n",
       "      <td>0</td>\n",
       "      <td>0</td>\n",
       "      <td>7.9250</td>\n",
       "      <td>NaN</td>\n",
       "      <td>S</td>\n",
       "    </tr>\n",
       "    <tr>\n",
       "      <th>3</th>\n",
       "      <td>1</td>\n",
       "      <td>1</td>\n",
       "      <td>female</td>\n",
       "      <td>35.0</td>\n",
       "      <td>1</td>\n",
       "      <td>0</td>\n",
       "      <td>53.1000</td>\n",
       "      <td>C123</td>\n",
       "      <td>S</td>\n",
       "    </tr>\n",
       "    <tr>\n",
       "      <th>4</th>\n",
       "      <td>0</td>\n",
       "      <td>3</td>\n",
       "      <td>male</td>\n",
       "      <td>35.0</td>\n",
       "      <td>0</td>\n",
       "      <td>0</td>\n",
       "      <td>8.0500</td>\n",
       "      <td>NaN</td>\n",
       "      <td>S</td>\n",
       "    </tr>\n",
       "  </tbody>\n",
       "</table>\n",
       "</div>"
      ],
      "text/plain": [
       "   Survived  Pclass     Sex   Age  SibSp  Parch     Fare Cabin Embarked\n",
       "0         0       3    male  22.0      1      0   7.2500   NaN        S\n",
       "1         1       1  female  38.0      1      0  71.2833   C85        C\n",
       "2         1       3  female  26.0      0      0   7.9250   NaN        S\n",
       "3         1       1  female  35.0      1      0  53.1000  C123        S\n",
       "4         0       3    male  35.0      0      0   8.0500   NaN        S"
      ]
     },
     "execution_count": 8,
     "metadata": {},
     "output_type": "execute_result"
    }
   ],
   "source": [
    "df.drop(columns=[\"Name\",\n",
    "                 \"Ticket\",\n",
    "                 \"PassengerId\"],\n",
    "        inplace=True)\n",
    "df.head()"
   ]
  },
  {
   "cell_type": "code",
   "execution_count": 9,
   "metadata": {},
   "outputs": [],
   "source": [
    "from dateutil import parser\n",
    "dt = parser.parse(\"Aug 28 1999 12:00AM\")"
   ]
  },
  {
   "cell_type": "code",
   "execution_count": 10,
   "metadata": {},
   "outputs": [
    {
     "name": "stderr",
     "output_type": "stream",
     "text": [
      "/Users/ericcacciavillani/anaconda3/envs/Master_Project/lib/python3.6/site-packages/ipykernel_launcher.py:2: SettingWithCopyWarning: \n",
      "A value is trying to be set on a copy of a slice from a DataFrame\n",
      "\n",
      "See the caveats in the documentation: http://pandas.pydata.org/pandas-docs/stable/indexing.html#indexing-view-versus-copy\n",
      "  \n"
     ]
    }
   ],
   "source": [
    "df[\"Date_test\"] = [\"2019-01-02\" for _ in range(0,df.shape[0])]\n",
    "df[\"Date_test\"][0] = np.nan\n",
    "# df[\"Date_test\"] = [parser.parse(val)for val in df[\"Date_test\"].value_counts().keys()]"
   ]
  },
  {
   "cell_type": "markdown",
   "metadata": {},
   "source": [
    "## Basic Feature manipulation"
   ]
  },
  {
   "cell_type": "markdown",
   "metadata": {},
   "source": [
    "### Change cabin column to have the level on the ship"
   ]
  },
  {
   "cell_type": "code",
   "execution_count": 11,
   "metadata": {},
   "outputs": [],
   "source": [
    "df[\"Cabin\"] = df[\"Cabin\"].str.replace(r'\\d+', '').str[0]"
   ]
  },
  {
   "cell_type": "markdown",
   "metadata": {},
   "source": [
    "## Change Feature Data types"
   ]
  },
  {
   "cell_type": "markdown",
   "metadata": {},
   "source": [
    "### Look at data types"
   ]
  },
  {
   "cell_type": "code",
   "execution_count": 12,
   "metadata": {},
   "outputs": [
    {
     "data": {
      "text/plain": [
       "Survived       int64\n",
       "Pclass         int64\n",
       "Sex           object\n",
       "Age          float64\n",
       "SibSp          int64\n",
       "Parch          int64\n",
       "Fare         float64\n",
       "Cabin         object\n",
       "Embarked      object\n",
       "Date_test     object\n",
       "dtype: object"
      ]
     },
     "execution_count": 12,
     "metadata": {},
     "output_type": "execute_result"
    }
   ],
   "source": [
    "df.dtypes"
   ]
  },
  {
   "cell_type": "markdown",
   "metadata": {},
   "source": [
    "### Make given data type changes"
   ]
  },
  {
   "cell_type": "code",
   "execution_count": 13,
   "metadata": {},
   "outputs": [],
   "source": [
    "# df[\"Pclass\"] = df[\"Pclass\"].replace(1, np.nan)"
   ]
  },
  {
   "cell_type": "markdown",
   "metadata": {},
   "source": [
    "### Final look at data types"
   ]
  },
  {
   "cell_type": "code",
   "execution_count": 14,
   "metadata": {},
   "outputs": [
    {
     "data": {
      "text/plain": [
       "Survived       int64\n",
       "Pclass         int64\n",
       "Sex           object\n",
       "Age          float64\n",
       "SibSp          int64\n",
       "Parch          int64\n",
       "Fare         float64\n",
       "Cabin         object\n",
       "Embarked      object\n",
       "Date_test     object\n",
       "dtype: object"
      ]
     },
     "execution_count": 14,
     "metadata": {},
     "output_type": "execute_result"
    }
   ],
   "source": [
    "df.dtypes"
   ]
  },
  {
   "cell_type": "markdown",
   "metadata": {},
   "source": [
    "## Set up DataFrameTypes"
   ]
  },
  {
   "cell_type": "code",
   "execution_count": 15,
   "metadata": {},
   "outputs": [
    {
     "name": "stdout",
     "output_type": "stream",
     "text": [
      "Categorical Features: {'Cabin', 'Sex', 'Embarked'}\n",
      "\n",
      "Possible One hot encoded feature names: {'Cabin': ['Cabin_D', 'Cabin_A', 'Cabin_T', 'Cabin_E', 'Cabin_G', 'Cabin_B', 'Cabin_F', 'Cabin_C'], 'Sex': ['Sex_female', 'Sex_male'], 'Embarked': ['Embarked_S', 'Embarked_C', 'Embarked_Q']}\n",
      "\n",
      "------------------------------------------------------------------------------------------\n",
      "Numerical Features: {'Survived', 'Pclass', 'SibSp', 'Age', 'Parch', 'Fare'}\n",
      "\n",
      "Integer Features: {'Survived', 'Pclass', 'SibSp', 'Parch'}\n",
      "\n",
      "Float Features: {'Fare', 'Age'}\n",
      "\n",
      "Datetime Features: {'Date_test'}\n",
      "\n",
      "Target Feature: Survived\n",
      "\n"
     ]
    }
   ],
   "source": [
    "df_features = DataFrameTypes(df,\n",
    "                             target_column=target_column,\n",
    "                             ignore_nulls=True)"
   ]
  },
  {
   "cell_type": "markdown",
   "metadata": {},
   "source": [
    "## Skim through Value Counts"
   ]
  },
  {
   "cell_type": "code",
   "execution_count": 16,
   "metadata": {},
   "outputs": [
    {
     "data": {
      "text/plain": [
       "0    549\n",
       "1    342\n",
       "Name: Survived, dtype: int64"
      ]
     },
     "metadata": {},
     "output_type": "display_data"
    },
    {
     "name": "stdout",
     "output_type": "stream",
     "text": [
      "************\n",
      "\n",
      "\n"
     ]
    },
    {
     "data": {
      "text/plain": [
       "3    491\n",
       "1    216\n",
       "2    184\n",
       "Name: Pclass, dtype: int64"
      ]
     },
     "metadata": {},
     "output_type": "display_data"
    },
    {
     "name": "stdout",
     "output_type": "stream",
     "text": [
      "************\n",
      "\n",
      "\n"
     ]
    },
    {
     "data": {
      "text/plain": [
       "male      577\n",
       "female    314\n",
       "Name: Sex, dtype: int64"
      ]
     },
     "metadata": {},
     "output_type": "display_data"
    },
    {
     "name": "stdout",
     "output_type": "stream",
     "text": [
      "************\n",
      "\n",
      "\n"
     ]
    },
    {
     "data": {
      "text/plain": [
       "0    608\n",
       "1    209\n",
       "2     28\n",
       "4     18\n",
       "3     16\n",
       "8      7\n",
       "5      5\n",
       "Name: SibSp, dtype: int64"
      ]
     },
     "metadata": {},
     "output_type": "display_data"
    },
    {
     "name": "stdout",
     "output_type": "stream",
     "text": [
      "************\n",
      "\n",
      "\n"
     ]
    },
    {
     "data": {
      "text/plain": [
       "0    678\n",
       "1    118\n",
       "2     80\n",
       "5      5\n",
       "3      5\n",
       "4      4\n",
       "6      1\n",
       "Name: Parch, dtype: int64"
      ]
     },
     "metadata": {},
     "output_type": "display_data"
    },
    {
     "name": "stdout",
     "output_type": "stream",
     "text": [
      "************\n",
      "\n",
      "\n"
     ]
    },
    {
     "data": {
      "text/plain": [
       "C    59\n",
       "B    47\n",
       "D    33\n",
       "E    32\n",
       "A    15\n",
       "F    13\n",
       "G     4\n",
       "T     1\n",
       "Name: Cabin, dtype: int64"
      ]
     },
     "metadata": {},
     "output_type": "display_data"
    },
    {
     "name": "stdout",
     "output_type": "stream",
     "text": [
      "************\n",
      "\n",
      "\n"
     ]
    },
    {
     "data": {
      "text/plain": [
       "S    644\n",
       "C    168\n",
       "Q     77\n",
       "Name: Embarked, dtype: int64"
      ]
     },
     "metadata": {},
     "output_type": "display_data"
    },
    {
     "name": "stdout",
     "output_type": "stream",
     "text": [
      "************\n",
      "\n",
      "\n"
     ]
    },
    {
     "data": {
      "text/plain": [
       "2019-01-02    890\n",
       "Name: Date_test, dtype: int64"
      ]
     },
     "metadata": {},
     "output_type": "display_data"
    },
    {
     "name": "stdout",
     "output_type": "stream",
     "text": [
      "************\n",
      "\n",
      "\n"
     ]
    }
   ],
   "source": [
    "for col in df.columns:\n",
    "    if col not in df_features.get_float_features() and len(np.unique(df[col].dropna().values)) <= 12:\n",
    "        display(df[col].value_counts())\n",
    "        print(\"***\" * 4 + \"\\n\\n\")"
   ]
  },
  {
   "cell_type": "markdown",
   "metadata": {},
   "source": [
    "### Perform quick analysis"
   ]
  },
  {
   "cell_type": "code",
   "execution_count": 17,
   "metadata": {},
   "outputs": [],
   "source": [
    "# analysis_obj = DataAnalysis(df,\n",
    "#                             df_features,\n",
    "#                             project_name=f'{parent_project_name}/General Analysis (Before Cleaning)',\n",
    "#                             missing_data_visuals=False)"
   ]
  },
  {
   "cell_type": "markdown",
   "metadata": {},
   "source": [
    "## Data Cleaning"
   ]
  },
  {
   "cell_type": "code",
   "execution_count": 18,
   "metadata": {},
   "outputs": [
    {
     "name": "stdout",
     "output_type": "stream",
     "text": [
      "Your selected dataframe has 10 columns.\n",
      "There are 4 columns that have missing values.\n"
     ]
    },
    {
     "data": {
      "text/html": [
       "<div>\n",
       "<style scoped>\n",
       "    .dataframe tbody tr th:only-of-type {\n",
       "        vertical-align: middle;\n",
       "    }\n",
       "\n",
       "    .dataframe tbody tr th {\n",
       "        vertical-align: top;\n",
       "    }\n",
       "\n",
       "    .dataframe thead th {\n",
       "        text-align: right;\n",
       "    }\n",
       "</style>\n",
       "<table border=\"1\" class=\"dataframe\">\n",
       "  <thead>\n",
       "    <tr style=\"text-align: right;\">\n",
       "      <th></th>\n",
       "      <th>Missing Values</th>\n",
       "      <th>% of Total Values</th>\n",
       "    </tr>\n",
       "  </thead>\n",
       "  <tbody>\n",
       "    <tr>\n",
       "      <th>Cabin</th>\n",
       "      <td>687</td>\n",
       "      <td>77.1</td>\n",
       "    </tr>\n",
       "    <tr>\n",
       "      <th>Age</th>\n",
       "      <td>177</td>\n",
       "      <td>19.9</td>\n",
       "    </tr>\n",
       "    <tr>\n",
       "      <th>Embarked</th>\n",
       "      <td>2</td>\n",
       "      <td>0.2</td>\n",
       "    </tr>\n",
       "    <tr>\n",
       "      <th>Date_test</th>\n",
       "      <td>1</td>\n",
       "      <td>0.1</td>\n",
       "    </tr>\n",
       "  </tbody>\n",
       "</table>\n",
       "</div>"
      ],
      "text/plain": [
       "           Missing Values  % of Total Values\n",
       "Cabin                 687               77.1\n",
       "Age                   177               19.9\n",
       "Embarked                2                0.2\n",
       "Date_test               1                0.1"
      ]
     },
     "metadata": {},
     "output_type": "display_data"
    },
    {
     "data": {
      "image/png": "[encoded data removed]",
      "text/plain": [
       "<Figure size 1800x720 with 2 Axes>"
      ]
     },
     "metadata": {
      "needs_background": "light"
     },
     "output_type": "display_data"
    },
    {
     "data": {
      "image/png": "[encoded data removed]",
      "text/plain": [
       "<Figure size 1728x720 with 3 Axes>"
      ]
     },
     "metadata": {
      "needs_background": "light"
     },
     "output_type": "display_data"
    },
    {
     "data": {
      "image/png": "[encoded data removed]",
      "text/plain": [
       "<Figure size 1440x864 with 1 Axes>"
      ]
     },
     "metadata": {
      "needs_background": "light"
     },
     "output_type": "display_data"
    },
    {
     "data": {
      "image/png": "[encoded data removed]",
      "text/plain": [
       "<Figure size 1800x720 with 1 Axes>"
      ]
     },
     "metadata": {
      "needs_background": "light"
     },
     "output_type": "display_data"
    }
   ],
   "source": [
    "data_cleaner = DataCleaner(df,\n",
    "                           project_name=f'{parent_project_name}/Data Cleaning',\n",
    "                           missing_data_visuals=True)"
   ]
  },
  {
   "cell_type": "code",
   "execution_count": 19,
   "metadata": {},
   "outputs": [
    {
     "data": {
      "application/vnd.jupyter.widget-view+json": {
       "model_id": "5d3f284edb8a4c028b101ffd2fb2b7f0",
       "version_major": 2,
       "version_minor": 0
      },
      "text/plain": [
       "Text(value='Default Data Cleaning', description='File Name:', layout=Layout(left='590px'), placeholder='Replac…"
      ]
     },
     "metadata": {},
     "output_type": "display_data"
    },
    {
     "data": {
      "application/vnd.jupyter.widget-view+json": {
       "model_id": "822a78164d5b44ad89802fc1ba6bcd25",
       "version_major": 2,
       "version_minor": 0
      },
      "text/plain": [
       "interactive(children=(Select(description='Features', layout=Layout(height='175px', width='50%'), options=('Age…"
      ]
     },
     "metadata": {},
     "output_type": "display_data"
    },
    {
     "data": {
      "application/vnd.jupyter.widget-view+json": {
       "model_id": "5e67e68f9d46418bbc082f3f0d7d53b9",
       "version_major": 2,
       "version_minor": 0
      },
      "text/plain": [
       "Button(description='Create JSON File from options', layout=Layout(bottom='5px', left='100px', width='40%'), st…"
      ]
     },
     "metadata": {},
     "output_type": "display_data"
    }
   ],
   "source": [
    "data_cleaner.data_cleaning_widget(df,\n",
    "                                  df_features)"
   ]
  },
  {
   "cell_type": "code",
   "execution_count": 20,
   "metadata": {},
   "outputs": [
    {
     "ename": "AttributeError",
     "evalue": "'DataCleaner' object has no attribute 'get_last_saved_json_file_path'",
     "output_type": "error",
     "traceback": [
      "\u001b[0;31m---------------------------------------------------------------------------\u001b[0m",
      "\u001b[0;31mAttributeError\u001b[0m                            Traceback (most recent call last)",
      "\u001b[0;32m<ipython-input-20-9df54fade74e>\u001b[0m in \u001b[0;36m<module>\u001b[0;34m\u001b[0m\n\u001b[0;32m----> 1\u001b[0;31m \u001b[0mdata_cleaner\u001b[0m\u001b[0;34m.\u001b[0m\u001b[0mget_last_saved_json_file_path\u001b[0m\u001b[0;34m(\u001b[0m\u001b[0;34m)\u001b[0m\u001b[0;34m\u001b[0m\u001b[0;34m\u001b[0m\u001b[0m\n\u001b[0m",
      "\u001b[0;31mAttributeError\u001b[0m: 'DataCleaner' object has no attribute 'get_last_saved_json_file_path'"
     ]
    }
   ],
   "source": [
    "data_cleaner.get_last_saved_json_file_path()"
   ]
  },
  {
   "cell_type": "code",
   "execution_count": null,
   "metadata": {},
   "outputs": [],
   "source": [
    "data_cleaner.data_cleaning_with_json_file(df,\n",
    "                                          data_cleaner.get_last_saved_json_file_path())"
   ]
  },
  {
   "cell_type": "code",
   "execution_count": null,
   "metadata": {},
   "outputs": [],
   "source": [
    "from impyute.imputation.cs import mice\n",
    "\n",
    "a = df[\"Age\"].tolist()\n",
    "# start the MICE training\n",
    "imputed_training=mice(df.values)"
   ]
  },
  {
   "cell_type": "code",
   "execution_count": 21,
   "metadata": {},
   "outputs": [
    {
     "name": "stderr",
     "output_type": "stream",
     "text": [
      "2019-08-30 14:30:03,717 [INFO]  \n",
      "========== start: fit model\n",
      "2019-08-30 14:30:03,718 [WARNING]  Already bound, ignoring bind()\n",
      "2019-08-30 14:30:03,823 [INFO]  Epoch[0] Batch [0-26]\tSpeed: 4484.99 samples/sec\tcross-entropy=15.338296\tAge-accuracy=0.000000\n",
      "2019-08-30 14:30:03,904 [INFO]  Epoch[0] Train-cross-entropy=13.964325\n",
      "2019-08-30 14:30:03,905 [INFO]  Epoch[0] Train-Age-accuracy=0.000000\n",
      "2019-08-30 14:30:03,906 [INFO]  Epoch[0] Time cost=0.186\n",
      "2019-08-30 14:30:03,910 [INFO]  Saved checkpoint to \"imputer_model/model-0000.params\"\n",
      "2019-08-30 14:30:03,926 [INFO]  Epoch[0] Validation-cross-entropy=16.319540\n",
      "2019-08-30 14:30:03,926 [INFO]  Epoch[0] Validation-Age-accuracy=0.000000\n",
      "2019-08-30 14:30:04,023 [INFO]  Epoch[1] Batch [0-26]\tSpeed: 4526.87 samples/sec\tcross-entropy=14.560543\tAge-accuracy=0.000000\n",
      "2019-08-30 14:30:04,103 [INFO]  Epoch[1] Train-cross-entropy=13.553460\n",
      "2019-08-30 14:30:04,104 [INFO]  Epoch[1] Train-Age-accuracy=0.000000\n",
      "2019-08-30 14:30:04,105 [INFO]  Epoch[1] Time cost=0.178\n",
      "2019-08-30 14:30:04,108 [INFO]  Saved checkpoint to \"imputer_model/model-0001.params\"\n",
      "2019-08-30 14:30:04,124 [INFO]  Epoch[1] Validation-cross-entropy=14.522013\n",
      "2019-08-30 14:30:04,124 [INFO]  Epoch[1] Validation-Age-accuracy=0.000000\n",
      "2019-08-30 14:30:04,233 [INFO]  Epoch[2] Batch [0-26]\tSpeed: 3984.29 samples/sec\tcross-entropy=13.312511\tAge-accuracy=0.000000\n",
      "2019-08-30 14:30:04,330 [INFO]  Epoch[2] Train-cross-entropy=13.038294\n",
      "2019-08-30 14:30:04,331 [INFO]  Epoch[2] Train-Age-accuracy=0.000000\n",
      "2019-08-30 14:30:04,332 [INFO]  Epoch[2] Time cost=0.207\n",
      "2019-08-30 14:30:04,335 [INFO]  Saved checkpoint to \"imputer_model/model-0002.params\"\n",
      "2019-08-30 14:30:04,353 [INFO]  Epoch[2] Validation-cross-entropy=14.376918\n",
      "2019-08-30 14:30:04,354 [INFO]  Epoch[2] Validation-Age-accuracy=0.000000\n",
      "2019-08-30 14:30:04,473 [INFO]  Epoch[3] Batch [0-26]\tSpeed: 3652.24 samples/sec\tcross-entropy=13.005166\tAge-accuracy=0.000000\n",
      "2019-08-30 14:30:04,563 [INFO]  Epoch[3] Train-cross-entropy=12.854057\n",
      "2019-08-30 14:30:04,564 [INFO]  Epoch[3] Train-Age-accuracy=0.000000\n",
      "2019-08-30 14:30:04,565 [INFO]  Epoch[3] Time cost=0.210\n",
      "2019-08-30 14:30:04,568 [INFO]  Saved checkpoint to \"imputer_model/model-0003.params\"\n",
      "2019-08-30 14:30:04,584 [INFO]  Epoch[3] Validation-cross-entropy=14.215152\n",
      "2019-08-30 14:30:04,585 [INFO]  Epoch[3] Validation-Age-accuracy=0.000000\n",
      "2019-08-30 14:30:04,699 [INFO]  Epoch[4] Batch [0-26]\tSpeed: 3789.98 samples/sec\tcross-entropy=12.763580\tAge-accuracy=0.000000\n",
      "2019-08-30 14:30:04,797 [INFO]  Epoch[4] Train-cross-entropy=12.709347\n",
      "2019-08-30 14:30:04,798 [INFO]  Epoch[4] Train-Age-accuracy=0.000000\n",
      "2019-08-30 14:30:04,799 [INFO]  Epoch[4] Time cost=0.214\n",
      "2019-08-30 14:30:04,802 [INFO]  Saved checkpoint to \"imputer_model/model-0004.params\"\n",
      "2019-08-30 14:30:04,820 [INFO]  Epoch[4] Validation-cross-entropy=14.104162\n",
      "2019-08-30 14:30:04,821 [INFO]  Epoch[4] Validation-Age-accuracy=0.000000\n",
      "2019-08-30 14:30:04,937 [INFO]  Epoch[5] Batch [0-26]\tSpeed: 3750.25 samples/sec\tcross-entropy=12.575002\tAge-accuracy=0.000000\n",
      "2019-08-30 14:30:05,036 [INFO]  Epoch[5] Train-cross-entropy=12.592139\n",
      "2019-08-30 14:30:05,037 [INFO]  Epoch[5] Train-Age-accuracy=0.000000\n",
      "2019-08-30 14:30:05,038 [INFO]  Epoch[5] Time cost=0.216\n",
      "2019-08-30 14:30:05,040 [INFO]  Saved checkpoint to \"imputer_model/model-0005.params\"\n",
      "2019-08-30 14:30:05,056 [INFO]  Epoch[5] Validation-cross-entropy=14.044801\n",
      "2019-08-30 14:30:05,057 [INFO]  Epoch[5] Validation-Age-accuracy=0.000000\n",
      "2019-08-30 14:30:05,166 [INFO]  Epoch[6] Batch [0-26]\tSpeed: 3995.75 samples/sec\tcross-entropy=12.441179\tAge-accuracy=0.000000\n",
      "2019-08-30 14:30:05,252 [INFO]  Epoch[6] Train-cross-entropy=12.506234\n",
      "2019-08-30 14:30:05,253 [INFO]  Epoch[6] Train-Age-accuracy=0.000000\n",
      "2019-08-30 14:30:05,254 [INFO]  Epoch[6] Time cost=0.196\n",
      "2019-08-30 14:30:05,257 [INFO]  Saved checkpoint to \"imputer_model/model-0006.params\"\n",
      "2019-08-30 14:30:05,273 [INFO]  Epoch[6] Validation-cross-entropy=13.971686\n",
      "2019-08-30 14:30:05,273 [INFO]  Epoch[6] Validation-Age-accuracy=0.000000\n",
      "2019-08-30 14:30:05,387 [INFO]  Epoch[7] Batch [0-26]\tSpeed: 3821.25 samples/sec\tcross-entropy=12.324218\tAge-accuracy=0.000000\n",
      "2019-08-30 14:30:05,487 [INFO]  Epoch[7] Train-cross-entropy=12.417814\n",
      "2019-08-30 14:30:05,488 [INFO]  Epoch[7] Train-Age-accuracy=0.000000\n",
      "2019-08-30 14:30:05,489 [INFO]  Epoch[7] Time cost=0.215\n",
      "2019-08-30 14:30:05,492 [INFO]  Saved checkpoint to \"imputer_model/model-0007.params\"\n",
      "2019-08-30 14:30:05,511 [INFO]  Epoch[7] Validation-cross-entropy=13.928576\n",
      "2019-08-30 14:30:05,512 [INFO]  Epoch[7] Validation-Age-accuracy=0.000000\n",
      "2019-08-30 14:30:05,622 [INFO]  Epoch[8] Batch [0-26]\tSpeed: 3925.16 samples/sec\tcross-entropy=12.213446\tAge-accuracy=0.000000\n",
      "2019-08-30 14:30:05,705 [INFO]  Epoch[8] Train-cross-entropy=12.331855\n",
      "2019-08-30 14:30:05,705 [INFO]  Epoch[8] Train-Age-accuracy=0.000000\n",
      "2019-08-30 14:30:05,706 [INFO]  Epoch[8] Time cost=0.194\n",
      "2019-08-30 14:30:05,709 [INFO]  Saved checkpoint to \"imputer_model/model-0008.params\"\n",
      "2019-08-30 14:30:05,723 [INFO]  Epoch[8] Validation-cross-entropy=13.887183\n",
      "2019-08-30 14:30:05,724 [INFO]  Epoch[8] Validation-Age-accuracy=0.000000\n",
      "2019-08-30 14:30:05,833 [INFO]  Epoch[9] Batch [0-26]\tSpeed: 4040.01 samples/sec\tcross-entropy=12.129686\tAge-accuracy=0.000000\n",
      "2019-08-30 14:30:05,930 [INFO]  Epoch[9] Train-cross-entropy=12.279657\n",
      "2019-08-30 14:30:05,931 [INFO]  Epoch[9] Train-Age-accuracy=0.000000\n",
      "2019-08-30 14:30:05,932 [INFO]  Epoch[9] Time cost=0.206\n",
      "2019-08-30 14:30:05,935 [INFO]  Saved checkpoint to \"imputer_model/model-0009.params\"\n",
      "2019-08-30 14:30:05,958 [INFO]  Epoch[9] Validation-cross-entropy=13.840920\n",
      "2019-08-30 14:30:05,959 [INFO]  Epoch[9] Validation-Age-accuracy=0.000000\n",
      "2019-08-30 14:30:06,074 [INFO]  Epoch[10] Batch [0-26]\tSpeed: 3795.31 samples/sec\tcross-entropy=12.042246\tAge-accuracy=0.000000\n",
      "2019-08-30 14:30:06,159 [INFO]  Epoch[10] Train-cross-entropy=12.203154\n",
      "2019-08-30 14:30:06,160 [INFO]  Epoch[10] Train-Age-accuracy=0.000000\n",
      "2019-08-30 14:30:06,161 [INFO]  Epoch[10] Time cost=0.201\n",
      "2019-08-30 14:30:06,164 [INFO]  Saved checkpoint to \"imputer_model/model-0010.params\"\n",
      "2019-08-30 14:30:06,178 [INFO]  Epoch[10] Validation-cross-entropy=13.801430\n",
      "2019-08-30 14:30:06,179 [INFO]  Epoch[10] Validation-Age-accuracy=0.000000\n",
      "2019-08-30 14:30:06,289 [INFO]  Epoch[11] Batch [0-26]\tSpeed: 3973.63 samples/sec\tcross-entropy=11.948136\tAge-accuracy=0.000000\n",
      "2019-08-30 14:30:06,377 [INFO]  Epoch[11] Train-cross-entropy=12.133566\n",
      "2019-08-30 14:30:06,378 [INFO]  Epoch[11] Train-Age-accuracy=0.000000\n",
      "2019-08-30 14:30:06,378 [INFO]  Epoch[11] Time cost=0.198\n",
      "2019-08-30 14:30:06,382 [INFO]  Saved checkpoint to \"imputer_model/model-0011.params\"\n",
      "2019-08-30 14:30:06,396 [INFO]  Epoch[11] Validation-cross-entropy=13.759791\n",
      "2019-08-30 14:30:06,396 [INFO]  Epoch[11] Validation-Age-accuracy=0.000000\n",
      "2019-08-30 14:30:06,511 [INFO]  Epoch[12] Batch [0-26]\tSpeed: 3824.51 samples/sec\tcross-entropy=11.887361\tAge-accuracy=0.000000\n",
      "2019-08-30 14:30:06,594 [INFO]  Epoch[12] Train-cross-entropy=12.051837\n",
      "2019-08-30 14:30:06,595 [INFO]  Epoch[12] Train-Age-accuracy=0.000000\n",
      "2019-08-30 14:30:06,595 [INFO]  Epoch[12] Time cost=0.198\n",
      "2019-08-30 14:30:06,598 [INFO]  Saved checkpoint to \"imputer_model/model-0012.params\"\n",
      "2019-08-30 14:30:06,612 [INFO]  Epoch[12] Validation-cross-entropy=13.739010\n",
      "2019-08-30 14:30:06,613 [INFO]  Epoch[12] Validation-Age-accuracy=0.000000\n",
      "2019-08-30 14:30:06,721 [INFO]  Epoch[13] Batch [0-26]\tSpeed: 4006.51 samples/sec\tcross-entropy=11.809918\tAge-accuracy=0.000000\n",
      "2019-08-30 14:30:06,820 [INFO]  Epoch[13] Train-cross-entropy=12.006435\n",
      "2019-08-30 14:30:06,821 [INFO]  Epoch[13] Train-Age-accuracy=0.000000\n",
      "2019-08-30 14:30:06,822 [INFO]  Epoch[13] Time cost=0.208\n",
      "2019-08-30 14:30:06,825 [INFO]  Saved checkpoint to \"imputer_model/model-0013.params\"\n",
      "2019-08-30 14:30:06,844 [INFO]  Epoch[13] Validation-cross-entropy=13.701519\n",
      "2019-08-30 14:30:06,845 [INFO]  Epoch[13] Validation-Age-accuracy=0.000000\n",
      "2019-08-30 14:30:06,959 [INFO]  Epoch[14] Batch [0-26]\tSpeed: 3841.61 samples/sec\tcross-entropy=11.751747\tAge-accuracy=0.000000\n",
      "2019-08-30 14:30:07,048 [INFO]  Epoch[14] Train-cross-entropy=11.936340\n",
      "2019-08-30 14:30:07,049 [INFO]  Epoch[14] Train-Age-accuracy=0.000000\n",
      "2019-08-30 14:30:07,050 [INFO]  Epoch[14] Time cost=0.204\n",
      "2019-08-30 14:30:07,053 [INFO]  Saved checkpoint to \"imputer_model/model-0014.params\"\n",
      "2019-08-30 14:30:07,067 [INFO]  Epoch[14] Validation-cross-entropy=13.634027\n",
      "2019-08-30 14:30:07,067 [INFO]  Epoch[14] Validation-Age-accuracy=0.000000\n",
      "2019-08-30 14:30:07,167 [INFO]  Epoch[15] Batch [0-26]\tSpeed: 4407.30 samples/sec\tcross-entropy=11.678056\tAge-accuracy=0.000000\n",
      "2019-08-30 14:30:07,260 [INFO]  Epoch[15] Train-cross-entropy=11.880416\n",
      "2019-08-30 14:30:07,261 [INFO]  Epoch[15] Train-Age-accuracy=0.000000\n",
      "2019-08-30 14:30:07,261 [INFO]  Epoch[15] Time cost=0.193\n",
      "2019-08-30 14:30:07,264 [INFO]  Saved checkpoint to \"imputer_model/model-0015.params\"\n",
      "2019-08-30 14:30:07,280 [INFO]  Epoch[15] Validation-cross-entropy=13.618257\n",
      "2019-08-30 14:30:07,281 [INFO]  Epoch[15] Validation-Age-accuracy=0.000000\n",
      "2019-08-30 14:30:07,382 [INFO]  Epoch[16] Batch [0-26]\tSpeed: 4311.99 samples/sec\tcross-entropy=11.627599\tAge-accuracy=0.000000\n",
      "2019-08-30 14:30:07,468 [INFO]  Epoch[16] Train-cross-entropy=11.782076\n",
      "2019-08-30 14:30:07,468 [INFO]  Epoch[16] Train-Age-accuracy=0.000000\n",
      "2019-08-30 14:30:07,469 [INFO]  Epoch[16] Time cost=0.188\n",
      "2019-08-30 14:30:07,472 [INFO]  Saved checkpoint to \"imputer_model/model-0016.params\"\n",
      "2019-08-30 14:30:07,490 [INFO]  Epoch[16] Validation-cross-entropy=13.515342\n",
      "2019-08-30 14:30:07,491 [INFO]  Epoch[16] Validation-Age-accuracy=0.000000\n",
      "2019-08-30 14:30:07,597 [INFO]  Epoch[17] Batch [0-26]\tSpeed: 4078.47 samples/sec\tcross-entropy=11.562449\tAge-accuracy=0.000000\n",
      "2019-08-30 14:30:07,688 [INFO]  Epoch[17] Train-cross-entropy=11.745288\n",
      "2019-08-30 14:30:07,689 [INFO]  Epoch[17] Train-Age-accuracy=0.000000\n",
      "2019-08-30 14:30:07,690 [INFO]  Epoch[17] Time cost=0.198\n",
      "2019-08-30 14:30:07,692 [INFO]  Saved checkpoint to \"imputer_model/model-0017.params\"\n",
      "2019-08-30 14:30:07,708 [INFO]  Epoch[17] Validation-cross-entropy=13.456436\n",
      "2019-08-30 14:30:07,709 [INFO]  Epoch[17] Validation-Age-accuracy=0.000000\n",
      "2019-08-30 14:30:07,814 [INFO]  Epoch[18] Batch [0-26]\tSpeed: 4138.60 samples/sec\tcross-entropy=11.510575\tAge-accuracy=0.000000\n",
      "2019-08-30 14:30:07,900 [INFO]  Epoch[18] Train-cross-entropy=11.714518\n",
      "2019-08-30 14:30:07,900 [INFO]  Epoch[18] Train-Age-accuracy=0.000000\n",
      "2019-08-30 14:30:07,901 [INFO]  Epoch[18] Time cost=0.191\n",
      "2019-08-30 14:30:07,904 [INFO]  Saved checkpoint to \"imputer_model/model-0018.params\"\n",
      "2019-08-30 14:30:07,918 [INFO]  Epoch[18] Validation-cross-entropy=13.445451\n",
      "2019-08-30 14:30:07,919 [INFO]  Epoch[18] Validation-Age-accuracy=0.000000\n",
      "2019-08-30 14:30:08,030 [INFO]  Epoch[19] Batch [0-26]\tSpeed: 3878.78 samples/sec\tcross-entropy=11.450186\tAge-accuracy=0.000000\n",
      "2019-08-30 14:30:08,116 [INFO]  Epoch[19] Train-cross-entropy=11.640509\n",
      "2019-08-30 14:30:08,117 [INFO]  Epoch[19] Train-Age-accuracy=0.000000\n",
      "2019-08-30 14:30:08,118 [INFO]  Epoch[19] Time cost=0.198\n",
      "2019-08-30 14:30:08,122 [INFO]  Saved checkpoint to \"imputer_model/model-0019.params\"\n",
      "2019-08-30 14:30:08,136 [INFO]  Epoch[19] Validation-cross-entropy=13.415998\n",
      "2019-08-30 14:30:08,137 [INFO]  Epoch[19] Validation-Age-accuracy=0.000000\n",
      "2019-08-30 14:30:08,240 [INFO]  Epoch[20] Batch [0-26]\tSpeed: 4199.52 samples/sec\tcross-entropy=11.391312\tAge-accuracy=0.000000\n",
      "2019-08-30 14:30:08,330 [INFO]  Epoch[20] Train-cross-entropy=11.589954\n",
      "2019-08-30 14:30:08,331 [INFO]  Epoch[20] Train-Age-accuracy=0.000000\n",
      "2019-08-30 14:30:08,332 [INFO]  Epoch[20] Time cost=0.194\n",
      "2019-08-30 14:30:08,334 [INFO]  Saved checkpoint to \"imputer_model/model-0020.params\"\n",
      "2019-08-30 14:30:08,350 [INFO]  Epoch[20] Validation-cross-entropy=13.351982\n",
      "2019-08-30 14:30:08,351 [INFO]  Epoch[20] Validation-Age-accuracy=0.000000\n",
      "2019-08-30 14:30:08,461 [INFO]  Epoch[21] Batch [0-26]\tSpeed: 3956.96 samples/sec\tcross-entropy=11.352630\tAge-accuracy=0.000000\n",
      "2019-08-30 14:30:08,548 [INFO]  Epoch[21] Train-cross-entropy=11.553024\n",
      "2019-08-30 14:30:08,549 [INFO]  Epoch[21] Train-Age-accuracy=0.000000\n",
      "2019-08-30 14:30:08,550 [INFO]  Epoch[21] Time cost=0.198\n",
      "2019-08-30 14:30:08,554 [INFO]  Saved checkpoint to \"imputer_model/model-0021.params\"\n",
      "2019-08-30 14:30:08,569 [INFO]  Epoch[21] Validation-cross-entropy=13.296418\n",
      "2019-08-30 14:30:08,570 [INFO]  Epoch[21] Validation-Age-accuracy=0.000000\n",
      "2019-08-30 14:30:08,672 [INFO]  Epoch[22] Batch [0-26]\tSpeed: 4234.44 samples/sec\tcross-entropy=11.323294\tAge-accuracy=0.000000\n",
      "2019-08-30 14:30:08,746 [INFO]  Epoch[22] Train-cross-entropy=11.503944\n",
      "2019-08-30 14:30:08,747 [INFO]  Epoch[22] Train-Age-accuracy=0.000000\n",
      "2019-08-30 14:30:08,747 [INFO]  Epoch[22] Time cost=0.177\n",
      "2019-08-30 14:30:08,751 [INFO]  Saved checkpoint to \"imputer_model/model-0022.params\"\n",
      "2019-08-30 14:30:08,770 [INFO]  Epoch[22] Validation-cross-entropy=13.310740\n",
      "2019-08-30 14:30:08,771 [INFO]  Epoch[22] Validation-Age-accuracy=0.000000\n",
      "2019-08-30 14:30:08,883 [INFO]  Epoch[23] Batch [0-26]\tSpeed: 3913.00 samples/sec\tcross-entropy=11.258900\tAge-accuracy=0.000000\n",
      "2019-08-30 14:30:08,968 [INFO]  Epoch[23] Train-cross-entropy=11.475544\n",
      "2019-08-30 14:30:08,969 [INFO]  Epoch[23] Train-Age-accuracy=0.000000\n",
      "2019-08-30 14:30:08,970 [INFO]  Epoch[23] Time cost=0.197\n",
      "2019-08-30 14:30:08,972 [INFO]  Saved checkpoint to \"imputer_model/model-0023.params\"\n",
      "2019-08-30 14:30:08,990 [INFO]  Epoch[23] Validation-cross-entropy=13.288339\n",
      "2019-08-30 14:30:08,991 [INFO]  Epoch[23] Validation-Age-accuracy=0.000000\n",
      "2019-08-30 14:30:09,103 [INFO]  Epoch[24] Batch [0-26]\tSpeed: 3858.03 samples/sec\tcross-entropy=11.219583\tAge-accuracy=0.000000\n",
      "2019-08-30 14:30:09,188 [INFO]  Epoch[24] Train-cross-entropy=11.441616\n",
      "2019-08-30 14:30:09,189 [INFO]  Epoch[24] Train-Age-accuracy=0.000000\n",
      "2019-08-30 14:30:09,190 [INFO]  Epoch[24] Time cost=0.199\n",
      "2019-08-30 14:30:09,193 [INFO]  Saved checkpoint to \"imputer_model/model-0024.params\"\n",
      "2019-08-30 14:30:09,211 [INFO]  Epoch[24] Validation-cross-entropy=13.228728\n",
      "2019-08-30 14:30:09,211 [INFO]  Epoch[24] Validation-Age-accuracy=0.000000\n",
      "2019-08-30 14:30:09,328 [INFO]  Epoch[25] Batch [0-26]\tSpeed: 3712.20 samples/sec\tcross-entropy=11.187144\tAge-accuracy=0.000000\n",
      "2019-08-30 14:30:09,415 [INFO]  Epoch[25] Train-cross-entropy=11.407060\n",
      "2019-08-30 14:30:09,416 [INFO]  Epoch[25] Train-Age-accuracy=0.000000\n",
      "2019-08-30 14:30:09,416 [INFO]  Epoch[25] Time cost=0.204\n",
      "2019-08-30 14:30:09,420 [INFO]  Saved checkpoint to \"imputer_model/model-0025.params\"\n",
      "2019-08-30 14:30:09,437 [INFO]  Epoch[25] Validation-cross-entropy=13.263621\n",
      "2019-08-30 14:30:09,438 [INFO]  Epoch[25] Validation-Age-accuracy=0.000000\n",
      "2019-08-30 14:30:09,551 [INFO]  Epoch[26] Batch [0-26]\tSpeed: 3862.65 samples/sec\tcross-entropy=11.158613\tAge-accuracy=0.000000\n",
      "2019-08-30 14:30:09,643 [INFO]  Epoch[26] Train-cross-entropy=11.386686\n",
      "2019-08-30 14:30:09,644 [INFO]  Epoch[26] Train-Age-accuracy=0.000000\n",
      "2019-08-30 14:30:09,645 [INFO]  Epoch[26] Time cost=0.207\n",
      "2019-08-30 14:30:09,649 [INFO]  Saved checkpoint to \"imputer_model/model-0026.params\"\n",
      "2019-08-30 14:30:09,667 [INFO]  Epoch[26] Validation-cross-entropy=13.200380\n",
      "2019-08-30 14:30:09,668 [INFO]  Epoch[26] Validation-Age-accuracy=0.000000\n",
      "2019-08-30 14:30:09,779 [INFO]  Epoch[27] Batch [0-26]\tSpeed: 3922.20 samples/sec\tcross-entropy=11.097134\tAge-accuracy=0.000000\n",
      "2019-08-30 14:30:09,863 [INFO]  Epoch[27] Train-cross-entropy=11.347907\n",
      "2019-08-30 14:30:09,864 [INFO]  Epoch[27] Train-Age-accuracy=0.000000\n",
      "2019-08-30 14:30:09,865 [INFO]  Epoch[27] Time cost=0.196\n",
      "2019-08-30 14:30:09,868 [INFO]  Saved checkpoint to \"imputer_model/model-0027.params\"\n",
      "2019-08-30 14:30:09,882 [INFO]  Epoch[27] Validation-cross-entropy=13.228204\n",
      "2019-08-30 14:30:09,883 [INFO]  Epoch[27] Validation-Age-accuracy=0.000000\n",
      "2019-08-30 14:30:09,988 [INFO]  Epoch[28] Batch [0-26]\tSpeed: 4132.06 samples/sec\tcross-entropy=11.114640\tAge-accuracy=0.000000\n",
      "2019-08-30 14:30:10,079 [INFO]  Epoch[28] Train-cross-entropy=11.301876\n",
      "2019-08-30 14:30:10,080 [INFO]  Epoch[28] Train-Age-accuracy=0.000000\n",
      "2019-08-30 14:30:10,081 [INFO]  Epoch[28] Time cost=0.197\n",
      "2019-08-30 14:30:10,084 [INFO]  Saved checkpoint to \"imputer_model/model-0028.params\"\n",
      "2019-08-30 14:30:10,097 [INFO]  Epoch[28] Validation-cross-entropy=13.163429\n",
      "2019-08-30 14:30:10,098 [INFO]  Epoch[28] Validation-Age-accuracy=0.000000\n",
      "2019-08-30 14:30:10,198 [INFO]  Epoch[29] Batch [0-26]\tSpeed: 4364.79 samples/sec\tcross-entropy=11.086173\tAge-accuracy=0.000000\n",
      "2019-08-30 14:30:10,288 [INFO]  Epoch[29] Train-cross-entropy=11.247871\n",
      "2019-08-30 14:30:10,288 [INFO]  Epoch[29] Train-Age-accuracy=0.000000\n",
      "2019-08-30 14:30:10,289 [INFO]  Epoch[29] Time cost=0.190\n",
      "2019-08-30 14:30:10,292 [INFO]  Saved checkpoint to \"imputer_model/model-0029.params\"\n",
      "2019-08-30 14:30:10,306 [INFO]  Epoch[29] Validation-cross-entropy=13.164072\n",
      "2019-08-30 14:30:10,306 [INFO]  Epoch[29] Validation-Age-accuracy=0.000000\n",
      "2019-08-30 14:30:10,408 [INFO]  Epoch[30] Batch [0-26]\tSpeed: 4262.16 samples/sec\tcross-entropy=11.040267\tAge-accuracy=0.000000\n",
      "2019-08-30 14:30:10,498 [INFO]  Epoch[30] Train-cross-entropy=11.237871\n",
      "2019-08-30 14:30:10,499 [INFO]  Epoch[30] Train-Age-accuracy=0.000000\n",
      "2019-08-30 14:30:10,499 [INFO]  Epoch[30] Time cost=0.192\n",
      "2019-08-30 14:30:10,502 [INFO]  Saved checkpoint to \"imputer_model/model-0030.params\"\n",
      "2019-08-30 14:30:10,516 [INFO]  Epoch[30] Validation-cross-entropy=13.162655\n",
      "2019-08-30 14:30:10,517 [INFO]  Epoch[30] Validation-Age-accuracy=0.000000\n",
      "2019-08-30 14:30:10,619 [INFO]  Epoch[31] Batch [0-26]\tSpeed: 4260.59 samples/sec\tcross-entropy=11.016154\tAge-accuracy=0.000000\n",
      "2019-08-30 14:30:10,714 [INFO]  Epoch[31] Train-cross-entropy=11.238154\n",
      "2019-08-30 14:30:10,715 [INFO]  Epoch[31] Train-Age-accuracy=0.000000\n",
      "2019-08-30 14:30:10,715 [INFO]  Epoch[31] Time cost=0.197\n",
      "2019-08-30 14:30:10,718 [INFO]  Saved checkpoint to \"imputer_model/model-0031.params\"\n",
      "2019-08-30 14:30:10,731 [INFO]  Epoch[31] Validation-cross-entropy=13.130737\n",
      "2019-08-30 14:30:10,732 [INFO]  Epoch[31] Validation-Age-accuracy=0.000000\n",
      "2019-08-30 14:30:10,833 [INFO]  Epoch[32] Batch [0-26]\tSpeed: 4302.90 samples/sec\tcross-entropy=10.980374\tAge-accuracy=0.000000\n",
      "2019-08-30 14:30:10,930 [INFO]  Epoch[32] Train-cross-entropy=11.225969\n",
      "2019-08-30 14:30:10,931 [INFO]  Epoch[32] Train-Age-accuracy=0.000000\n",
      "2019-08-30 14:30:10,931 [INFO]  Epoch[32] Time cost=0.199\n",
      "2019-08-30 14:30:10,935 [INFO]  Saved checkpoint to \"imputer_model/model-0032.params\"\n",
      "2019-08-30 14:30:10,953 [INFO]  Epoch[32] Validation-cross-entropy=13.128712\n",
      "2019-08-30 14:30:10,954 [INFO]  Epoch[32] Validation-Age-accuracy=0.000000\n",
      "2019-08-30 14:30:11,066 [INFO]  Epoch[33] Batch [0-26]\tSpeed: 3911.54 samples/sec\tcross-entropy=10.964322\tAge-accuracy=0.000000\n",
      "2019-08-30 14:30:11,159 [INFO]  Epoch[33] Train-cross-entropy=11.188110\n",
      "2019-08-30 14:30:11,159 [INFO]  Epoch[33] Train-Age-accuracy=0.000000\n",
      "2019-08-30 14:30:11,161 [INFO]  Epoch[33] Time cost=0.206\n",
      "2019-08-30 14:30:11,164 [INFO]  Saved checkpoint to \"imputer_model/model-0033.params\"\n",
      "2019-08-30 14:30:11,183 [INFO]  Epoch[33] Validation-cross-entropy=13.115014\n",
      "2019-08-30 14:30:11,184 [INFO]  Epoch[33] Validation-Age-accuracy=0.000000\n",
      "2019-08-30 14:30:11,290 [INFO]  Epoch[34] Batch [0-26]\tSpeed: 4109.61 samples/sec\tcross-entropy=10.959175\tAge-accuracy=0.000000\n",
      "2019-08-30 14:30:11,371 [INFO]  Epoch[34] Train-cross-entropy=11.189585\n",
      "2019-08-30 14:30:11,372 [INFO]  Epoch[34] Train-Age-accuracy=0.000000\n",
      "2019-08-30 14:30:11,373 [INFO]  Epoch[34] Time cost=0.188\n",
      "2019-08-30 14:30:11,376 [INFO]  Saved checkpoint to \"imputer_model/model-0034.params\"\n",
      "2019-08-30 14:30:11,390 [INFO]  Epoch[34] Validation-cross-entropy=13.075005\n",
      "2019-08-30 14:30:11,390 [INFO]  Epoch[34] Validation-Age-accuracy=0.000000\n",
      "2019-08-30 14:30:11,499 [INFO]  Epoch[35] Batch [0-26]\tSpeed: 4003.73 samples/sec\tcross-entropy=10.933733\tAge-accuracy=0.000000\n",
      "2019-08-30 14:30:11,584 [INFO]  Epoch[35] Train-cross-entropy=11.168240\n",
      "2019-08-30 14:30:11,585 [INFO]  Epoch[35] Train-Age-accuracy=0.000000\n",
      "2019-08-30 14:30:11,585 [INFO]  Epoch[35] Time cost=0.194\n",
      "2019-08-30 14:30:11,589 [INFO]  Saved checkpoint to \"imputer_model/model-0035.params\"\n",
      "2019-08-30 14:30:11,603 [INFO]  Epoch[35] Validation-cross-entropy=13.072865\n",
      "2019-08-30 14:30:11,604 [INFO]  Epoch[35] Validation-Age-accuracy=0.000000\n",
      "2019-08-30 14:30:11,696 [INFO]  Epoch[36] Batch [0-26]\tSpeed: 4739.98 samples/sec\tcross-entropy=10.919865\tAge-accuracy=0.000000\n",
      "2019-08-30 14:30:11,790 [INFO]  Epoch[36] Train-cross-entropy=11.134157\n",
      "2019-08-30 14:30:11,790 [INFO]  Epoch[36] Train-Age-accuracy=0.000000\n",
      "2019-08-30 14:30:11,791 [INFO]  Epoch[36] Time cost=0.186\n",
      "2019-08-30 14:30:11,794 [INFO]  Saved checkpoint to \"imputer_model/model-0036.params\"\n",
      "2019-08-30 14:30:11,808 [INFO]  Epoch[36] Validation-cross-entropy=13.065868\n",
      "2019-08-30 14:30:11,809 [INFO]  Epoch[36] Validation-Age-accuracy=0.000000\n",
      "2019-08-30 14:30:11,906 [INFO]  Epoch[37] Batch [0-26]\tSpeed: 4449.25 samples/sec\tcross-entropy=10.890478\tAge-accuracy=0.000000\n",
      "2019-08-30 14:30:12,005 [INFO]  Epoch[37] Train-cross-entropy=11.122961\n",
      "2019-08-30 14:30:12,005 [INFO]  Epoch[37] Train-Age-accuracy=0.000000\n",
      "2019-08-30 14:30:12,006 [INFO]  Epoch[37] Time cost=0.197\n",
      "2019-08-30 14:30:12,009 [INFO]  Saved checkpoint to \"imputer_model/model-0037.params\"\n",
      "2019-08-30 14:30:12,024 [INFO]  Epoch[37] Validation-cross-entropy=13.053163\n",
      "2019-08-30 14:30:12,025 [INFO]  Epoch[37] Validation-Age-accuracy=0.000000\n",
      "2019-08-30 14:30:12,125 [INFO]  Epoch[38] Batch [0-26]\tSpeed: 4358.08 samples/sec\tcross-entropy=10.868411\tAge-accuracy=0.000000\n",
      "2019-08-30 14:30:12,220 [INFO]  Epoch[38] Train-cross-entropy=11.104717\n",
      "2019-08-30 14:30:12,221 [INFO]  Epoch[38] Train-Age-accuracy=0.000000\n",
      "2019-08-30 14:30:12,221 [INFO]  Epoch[38] Time cost=0.196\n",
      "2019-08-30 14:30:12,224 [INFO]  Saved checkpoint to \"imputer_model/model-0038.params\"\n",
      "2019-08-30 14:30:12,241 [INFO]  Epoch[38] Validation-cross-entropy=13.032495\n",
      "2019-08-30 14:30:12,242 [INFO]  Epoch[38] Validation-Age-accuracy=0.000000\n",
      "2019-08-30 14:30:12,331 [INFO]  Epoch[39] Batch [0-26]\tSpeed: 4890.89 samples/sec\tcross-entropy=10.853152\tAge-accuracy=0.000000\n",
      "2019-08-30 14:30:12,417 [INFO]  Epoch[39] Train-cross-entropy=11.091605\n",
      "2019-08-30 14:30:12,417 [INFO]  Epoch[39] Train-Age-accuracy=0.000000\n",
      "2019-08-30 14:30:12,418 [INFO]  Epoch[39] Time cost=0.176\n",
      "2019-08-30 14:30:12,421 [INFO]  Saved checkpoint to \"imputer_model/model-0039.params\"\n",
      "2019-08-30 14:30:12,436 [INFO]  Epoch[39] Validation-cross-entropy=12.995861\n",
      "2019-08-30 14:30:12,437 [INFO]  Epoch[39] Validation-Age-accuracy=0.000000\n",
      "2019-08-30 14:30:12,546 [INFO]  Epoch[40] Batch [0-26]\tSpeed: 3990.64 samples/sec\tcross-entropy=10.843163\tAge-accuracy=0.000000\n",
      "2019-08-30 14:30:12,639 [INFO]  Epoch[40] Train-cross-entropy=11.061486\n",
      "2019-08-30 14:30:12,639 [INFO]  Epoch[40] Train-Age-accuracy=0.000000\n",
      "2019-08-30 14:30:12,640 [INFO]  Epoch[40] Time cost=0.202\n",
      "2019-08-30 14:30:12,644 [INFO]  Saved checkpoint to \"imputer_model/model-0040.params\"\n",
      "2019-08-30 14:30:12,661 [INFO]  Epoch[40] Validation-cross-entropy=13.037412\n",
      "2019-08-30 14:30:12,662 [INFO]  Epoch[40] Validation-Age-accuracy=0.000000\n",
      "2019-08-30 14:30:12,763 [INFO]  Epoch[41] Batch [0-26]\tSpeed: 4297.65 samples/sec\tcross-entropy=10.810972\tAge-accuracy=0.000000\n",
      "2019-08-30 14:30:12,850 [INFO]  Epoch[41] Train-cross-entropy=11.036561\n",
      "2019-08-30 14:30:12,851 [INFO]  Epoch[41] Train-Age-accuracy=0.000000\n",
      "2019-08-30 14:30:12,852 [INFO]  Epoch[41] Time cost=0.190\n",
      "2019-08-30 14:30:12,856 [INFO]  Saved checkpoint to \"imputer_model/model-0041.params\"\n",
      "2019-08-30 14:30:12,872 [INFO]  Epoch[41] Validation-cross-entropy=13.047976\n",
      "2019-08-30 14:30:12,873 [INFO]  Epoch[41] Validation-Age-accuracy=0.000000\n",
      "2019-08-30 14:30:12,971 [INFO]  Epoch[42] Batch [0-26]\tSpeed: 4439.99 samples/sec\tcross-entropy=10.814371\tAge-accuracy=0.000000\n",
      "2019-08-30 14:30:13,075 [INFO]  Epoch[42] Train-cross-entropy=10.998089\n",
      "2019-08-30 14:30:13,076 [INFO]  Epoch[42] Train-Age-accuracy=0.000000\n",
      "2019-08-30 14:30:13,077 [INFO]  Epoch[42] Time cost=0.204\n",
      "2019-08-30 14:30:13,080 [INFO]  Saved checkpoint to \"imputer_model/model-0042.params\"\n",
      "2019-08-30 14:30:13,098 [INFO]  Epoch[42] Validation-cross-entropy=13.024087\n",
      "2019-08-30 14:30:13,099 [INFO]  Epoch[42] Validation-Age-accuracy=0.000000\n",
      "2019-08-30 14:30:13,213 [INFO]  Epoch[43] Batch [0-26]\tSpeed: 3800.75 samples/sec\tcross-entropy=10.785877\tAge-accuracy=0.000000\n",
      "2019-08-30 14:30:13,319 [INFO]  Epoch[43] Train-cross-entropy=11.018472\n",
      "2019-08-30 14:30:13,320 [INFO]  Epoch[43] Train-Age-accuracy=0.000000\n",
      "2019-08-30 14:30:13,321 [INFO]  Epoch[43] Time cost=0.222\n",
      "2019-08-30 14:30:13,325 [INFO]  Saved checkpoint to \"imputer_model/model-0043.params\"\n",
      "2019-08-30 14:30:13,343 [INFO]  Epoch[43] Validation-cross-entropy=13.061817\n",
      "2019-08-30 14:30:13,343 [INFO]  Epoch[43] Validation-Age-accuracy=0.000000\n",
      "2019-08-30 14:30:13,445 [INFO]  Epoch[44] Batch [0-26]\tSpeed: 4311.59 samples/sec\tcross-entropy=10.776621\tAge-accuracy=0.000000\n",
      "2019-08-30 14:30:13,552 [INFO]  Epoch[44] Train-cross-entropy=10.982585\n",
      "2019-08-30 14:30:13,553 [INFO]  Epoch[44] Train-Age-accuracy=0.000000\n",
      "2019-08-30 14:30:13,553 [INFO]  Epoch[44] Time cost=0.209\n",
      "2019-08-30 14:30:13,557 [INFO]  Saved checkpoint to \"imputer_model/model-0044.params\"\n",
      "2019-08-30 14:30:13,574 [INFO]  No improvement detected for 5 epochs compared to 12.995860767364501 last error obtained: 13.116538047790527, stopping here\n",
      "2019-08-30 14:30:13,575 [INFO]  \n",
      "========== done (9.858536005020142 s) fit model\n"
     ]
    },
    {
     "data": {
      "text/plain": [
       "<datawig.simple_imputer.SimpleImputer at 0x1c1b0b67f0>"
      ]
     },
     "execution_count": 21,
     "metadata": {},
     "output_type": "execute_result"
    }
   ],
   "source": [
    "import datawig\n",
    "\n",
    "df_train, df_test = datawig.utils.random_split(df)\n",
    "\n",
    "#Initialize a SimpleImputer model\n",
    "imputer = datawig.SimpleImputer(\n",
    "    input_columns=['Survived', 'Pclass', 'Sex', 'SibSp', 'Parch', 'Fare', 'Cabin','Embarked'], # column(s) containing information about the column we want to impute\n",
    "    output_column= 'Age', # the column we'd like to impute values for\n",
    "    output_path = 'imputer_model' # stores model data and metrics\n",
    "    )\n",
    "\n",
    "#Fit an imputer model on the train data\n",
    "imputer.fit(train_df=df, num_epochs=200)"
   ]
  },
  {
   "cell_type": "code",
   "execution_count": 22,
   "metadata": {},
   "outputs": [
    {
     "ename": "NameError",
     "evalue": "name 'mice' is not defined",
     "output_type": "error",
     "traceback": [
      "\u001b[0;31m---------------------------------------------------------------------------\u001b[0m",
      "\u001b[0;31mNameError\u001b[0m                                 Traceback (most recent call last)",
      "\u001b[0;32m<ipython-input-22-653122c59d2c>\u001b[0m in \u001b[0;36m<module>\u001b[0;34m\u001b[0m\n\u001b[0;32m----> 1\u001b[0;31m \u001b[0mimputed_training\u001b[0m\u001b[0;34m=\u001b[0m\u001b[0mmice\u001b[0m\u001b[0;34m(\u001b[0m\u001b[0mdf\u001b[0m\u001b[0;34m[\u001b[0m\u001b[0mdf_features\u001b[0m\u001b[0;34m.\u001b[0m\u001b[0mget_numerical_features\u001b[0m\u001b[0;34m(\u001b[0m\u001b[0;34m)\u001b[0m\u001b[0;34m]\u001b[0m\u001b[0;34m.\u001b[0m\u001b[0mvalues\u001b[0m\u001b[0;34m)\u001b[0m\u001b[0;34m\u001b[0m\u001b[0;34m\u001b[0m\u001b[0m\n\u001b[0m\u001b[1;32m      2\u001b[0m \u001b[0mimputed_training\u001b[0m\u001b[0;34m[\u001b[0m\u001b[0;36m0\u001b[0m\u001b[0;34m]\u001b[0m\u001b[0;34m\u001b[0m\u001b[0;34m\u001b[0m\u001b[0m\n",
      "\u001b[0;31mNameError\u001b[0m: name 'mice' is not defined"
     ]
    }
   ],
   "source": [
    "imputed_training=mice(df[df_features.get_numerical_features()].values)"
   ]
  },
  {
   "cell_type": "code",
   "execution_count": null,
   "metadata": {},
   "outputs": [],
   "source": [
    "# !pip install datawig\n",
    "# !pip install opencv-python\n",
    "# !pip install Pillow\n",
    "# !pip install tesserocr"
   ]
  },
  {
   "cell_type": "code",
   "execution_count": 27,
   "metadata": {},
   "outputs": [
    {
     "name": "stdout",
     "output_type": "stream",
     "text": [
      "714\n",
      "(714, 8)\n",
      "(714,)\n",
      "Bool Features: {'Cabin', 'Sex'}\n",
      "\n",
      "------------------------------------------------------------------------------------------\n",
      "Numerical Features: {'Survived', 'Pclass', 'SibSp', 'Age', 'Parch', 'Fare'}\n",
      "\n",
      "Integer Features: {'Survived', 'Pclass', 'SibSp', 'Parch'}\n",
      "\n",
      "Float Features: {'Fare', 'Age'}\n",
      "\n",
      "Target Feature: Survived\n",
      "\n"
     ]
    },
    {
     "data": {
      "text/plain": [
       "['Survived', 'Pclass', 'Sex', 'Age', 'SibSp', 'Parch', 'Fare', 'Cabin']"
      ]
     },
     "execution_count": 27,
     "metadata": {},
     "output_type": "execute_result"
    }
   ],
   "source": [
    "import random\n",
    "\n",
    "df[\"Cabin\"] = df[\"Cabin\"].fillna(\"A\")\n",
    "test = df.drop(columns=[\"Date_test\", \"Embarked\"]).dropna()\n",
    "\n",
    "test[\"Cabin\"] = df[\"Cabin\"] == \"B\"\n",
    "test[\"Sex\"] = df[\"Sex\"] == \"male\"\n",
    "test[target_column] = [random.randint(0, 5) for _ in range(0,test.shape[0])]\n",
    "print(len(test[target_column]))\n",
    "\n",
    "y = test[target_column].values\n",
    "X = test.values\n",
    "\n",
    "print(X.shape)\n",
    "print(y.shape)\n",
    "\n",
    "\n",
    "df_features = DataFrameTypes(test,\n",
    "                             target_column=target_column,\n",
    "                             ignore_nulls=True) \n",
    "df_features.get_all_features()"
   ]
  },
  {
   "cell_type": "code",
   "execution_count": 28,
   "metadata": {},
   "outputs": [],
   "source": [
    "X_train, X_test, y_train, y_test = train_test_split(\n",
    "    X, y, test_size=0.25, random_state=517, stratify=y,\n",
    ")"
   ]
  },
  {
   "cell_type": "code",
   "execution_count": 29,
   "metadata": {},
   "outputs": [
    {
     "name": "stdout",
     "output_type": "stream",
     "text": [
      "Tuned Parameters: {'criterion': 'entropy', 'max_depth': 2, 'min_samples_leaf': 80}\n",
      "Best score on trained data was 0.699065\n"
     ]
    },
    {
     "name": "stderr",
     "output_type": "stream",
     "text": [
      "/Users/ericcacciavillani/anaconda3/envs/Master_Project/lib/python3.6/site-packages/sklearn/model_selection/_search.py:813: DeprecationWarning: The default of the `iid` parameter will change from True to False in version 0.22 and will be removed in 0.24. This will change numeric results when test-set sizes are unequal.\n",
      "  DeprecationWarning)\n"
     ]
    }
   ],
   "source": [
    "from sklearn.tree import DecisionTreeClassifier\n",
    "from eFlow.ToolBox.Modeling import *\n",
    "# Find best parameters for model\n",
    "param_grid = {\n",
    "    \"max_depth\": list(range(2, 3)),\n",
    "    \"min_samples_leaf\": list(range(80, 130, 5)),\n",
    "    \"criterion\": [\"gini\", \"entropy\"],\n",
    "#     \"n_splits\": [20, 30]\n",
    "}\n",
    "\n",
    "model, best_params = optimize_model_grid(\n",
    "    model=DecisionTreeClassifier(),\n",
    "    X_train=X_train, y_train=y_train,\n",
    "    param_grid=param_grid\n",
    ")"
   ]
  },
  {
   "cell_type": "code",
   "execution_count": 30,
   "metadata": {},
   "outputs": [
    {
     "name": "stdout",
     "output_type": "stream",
     "text": [
      "\n",
      "\n",
      "------------------------------Train data------------------------------\n"
     ]
    },
    {
     "data": {
      "text/html": [
       "<div>\n",
       "<style scoped>\n",
       "    .dataframe tbody tr th:only-of-type {\n",
       "        vertical-align: middle;\n",
       "    }\n",
       "\n",
       "    .dataframe tbody tr th {\n",
       "        vertical-align: top;\n",
       "    }\n",
       "\n",
       "    .dataframe thead th {\n",
       "        text-align: right;\n",
       "    }\n",
       "</style>\n",
       "<table border=\"1\" class=\"dataframe\">\n",
       "  <thead>\n",
       "    <tr style=\"text-align: right;\">\n",
       "      <th></th>\n",
       "      <th>Metric Scores (Train data)</th>\n",
       "    </tr>\n",
       "  </thead>\n",
       "  <tbody>\n",
       "    <tr>\n",
       "      <th>Precision(micro)</th>\n",
       "      <td>0.6991</td>\n",
       "    </tr>\n",
       "    <tr>\n",
       "      <th>Precision(macro)</th>\n",
       "      <td>0.5123</td>\n",
       "    </tr>\n",
       "    <tr>\n",
       "      <th>Precision(weighted)</th>\n",
       "      <td>0.5380</td>\n",
       "    </tr>\n",
       "    <tr>\n",
       "      <th>MCC</th>\n",
       "      <td>0.6742</td>\n",
       "    </tr>\n",
       "    <tr>\n",
       "      <th>Recall(micro)</th>\n",
       "      <td>0.6991</td>\n",
       "    </tr>\n",
       "    <tr>\n",
       "      <th>Recall(macro)</th>\n",
       "      <td>0.6667</td>\n",
       "    </tr>\n",
       "    <tr>\n",
       "      <th>Recall(weighted)</th>\n",
       "      <td>0.6991</td>\n",
       "    </tr>\n",
       "    <tr>\n",
       "      <th>F1-Score(micro)</th>\n",
       "      <td>0.6991</td>\n",
       "    </tr>\n",
       "    <tr>\n",
       "      <th>F1-Score(macro)</th>\n",
       "      <td>0.5662</td>\n",
       "    </tr>\n",
       "    <tr>\n",
       "      <th>F1-Score(weighted)</th>\n",
       "      <td>0.5942</td>\n",
       "    </tr>\n",
       "    <tr>\n",
       "      <th>Accuracy</th>\n",
       "      <td>0.6991</td>\n",
       "    </tr>\n",
       "  </tbody>\n",
       "</table>\n",
       "</div>"
      ],
      "text/plain": [
       "                    Metric Scores (Train data)\n",
       "Precision(micro)                        0.6991\n",
       "Precision(macro)                        0.5123\n",
       "Precision(weighted)                     0.5380\n",
       "MCC                                     0.6742\n",
       "Recall(micro)                           0.6991\n",
       "Recall(macro)                           0.6667\n",
       "Recall(weighted)                        0.6991\n",
       "F1-Score(micro)                         0.6991\n",
       "F1-Score(macro)                         0.5662\n",
       "F1-Score(weighted)                      0.5942\n",
       "Accuracy                                0.6991"
      ]
     },
     "metadata": {},
     "output_type": "display_data"
    },
    {
     "data": {
      "image/png": "[encoded data removed]",
      "text/plain": [
       "<Figure size 720x576 with 2 Axes>"
      ]
     },
     "metadata": {},
     "output_type": "display_data"
    },
    {
     "name": "stdout",
     "output_type": "stream",
     "text": [
      "\n",
      "\n",
      "**********Generating graphs for model's correctly predicted...**********\n",
      "\n",
      "Generating graph for Survived.\n",
      "--------------------------------------------------------------------------------\n",
      "\n",
      "\n",
      "Generating graph for Pclass.\n",
      "--------------------------------------------------------------------------------\n",
      "\n",
      "\n",
      "Generating graph for Sex.\n",
      "--------------------------------------------------------------------------------\n",
      "\n",
      "\n",
      "Generating graph for Age.\n",
      "--------------------------------------------------------------------------------\n",
      "\n",
      "\n",
      "Generating graph for SibSp.\n",
      "--------------------------------------------------------------------------------\n",
      "\n",
      "\n",
      "Generating graph for Parch.\n",
      "--------------------------------------------------------------------------------\n",
      "\n",
      "\n",
      "Generating graph for Fare.\n",
      "--------------------------------------------------------------------------------\n",
      "\n",
      "\n",
      "Generating graph for Cabin.\n",
      "--------------------------------------------------------------------------------\n",
      "\n",
      "\n",
      "\n",
      "\n",
      "**********Generating graphs for model's incorrectly predicted...**********\n",
      "\n",
      "Generating graph for Survived.\n",
      "--------------------------------------------------------------------------------\n",
      "\n",
      "\n",
      "Generating graph for Pclass.\n",
      "--------------------------------------------------------------------------------\n",
      "\n",
      "\n",
      "Generating graph for Sex.\n",
      "--------------------------------------------------------------------------------\n",
      "\n",
      "\n",
      "Generating graph for Age.\n",
      "--------------------------------------------------------------------------------\n",
      "\n",
      "\n",
      "Generating graph for SibSp.\n",
      "--------------------------------------------------------------------------------\n",
      "\n",
      "\n",
      "Generating graph for Parch.\n",
      "--------------------------------------------------------------------------------\n",
      "\n",
      "\n",
      "Generating graph for Fare.\n",
      "--------------------------------------------------------------------------------\n",
      "\n",
      "\n",
      "Generating graph for Cabin.\n",
      "--------------------------------------------------------------------------------\n",
      "\n",
      "\n"
     ]
    },
    {
     "name": "stderr",
     "output_type": "stream",
     "text": [
      "/Users/ericcacciavillani/anaconda3/envs/Master_Project/lib/python3.6/site-packages/sklearn/metrics/classification.py:1437: UndefinedMetricWarning: Precision and F-score are ill-defined and being set to 0.0 in labels with no predicted samples.\n",
      "  'precision', 'predicted', average, warn_for)\n"
     ]
    },
    {
     "data": {
      "text/html": [
       "<div>\n",
       "<style scoped>\n",
       "    .dataframe tbody tr th:only-of-type {\n",
       "        vertical-align: middle;\n",
       "    }\n",
       "\n",
       "    .dataframe tbody tr th {\n",
       "        vertical-align: top;\n",
       "    }\n",
       "\n",
       "    .dataframe thead th {\n",
       "        text-align: right;\n",
       "    }\n",
       "</style>\n",
       "<table border=\"1\" class=\"dataframe\">\n",
       "  <thead>\n",
       "    <tr style=\"text-align: right;\">\n",
       "      <th></th>\n",
       "      <th>0</th>\n",
       "      <th>1</th>\n",
       "      <th>2</th>\n",
       "      <th>3</th>\n",
       "      <th>4</th>\n",
       "      <th>5</th>\n",
       "      <th>accuracy</th>\n",
       "      <th>macro avg</th>\n",
       "      <th>weighted avg</th>\n",
       "    </tr>\n",
       "  </thead>\n",
       "  <tbody>\n",
       "    <tr>\n",
       "      <th>f1-score</th>\n",
       "      <td>0.0</td>\n",
       "      <td>0.681159</td>\n",
       "      <td>1.0</td>\n",
       "      <td>0.715953</td>\n",
       "      <td>0.0</td>\n",
       "      <td>1.0</td>\n",
       "      <td>0.699065</td>\n",
       "      <td>0.566185</td>\n",
       "      <td>0.594199</td>\n",
       "    </tr>\n",
       "    <tr>\n",
       "      <th>precision</th>\n",
       "      <td>0.0</td>\n",
       "      <td>0.516484</td>\n",
       "      <td>1.0</td>\n",
       "      <td>0.557576</td>\n",
       "      <td>0.0</td>\n",
       "      <td>1.0</td>\n",
       "      <td>0.699065</td>\n",
       "      <td>0.512343</td>\n",
       "      <td>0.538031</td>\n",
       "    </tr>\n",
       "    <tr>\n",
       "      <th>recall</th>\n",
       "      <td>0.0</td>\n",
       "      <td>1.000000</td>\n",
       "      <td>1.0</td>\n",
       "      <td>1.000000</td>\n",
       "      <td>0.0</td>\n",
       "      <td>1.0</td>\n",
       "      <td>0.699065</td>\n",
       "      <td>0.666667</td>\n",
       "      <td>0.699065</td>\n",
       "    </tr>\n",
       "    <tr>\n",
       "      <th>support</th>\n",
       "      <td>88.0</td>\n",
       "      <td>94.000000</td>\n",
       "      <td>94.0</td>\n",
       "      <td>92.000000</td>\n",
       "      <td>73.0</td>\n",
       "      <td>94.0</td>\n",
       "      <td>0.699065</td>\n",
       "      <td>535.000000</td>\n",
       "      <td>535.000000</td>\n",
       "    </tr>\n",
       "  </tbody>\n",
       "</table>\n",
       "</div>"
      ],
      "text/plain": [
       "              0          1     2          3     4     5  accuracy   macro avg  \\\n",
       "f1-score    0.0   0.681159   1.0   0.715953   0.0   1.0  0.699065    0.566185   \n",
       "precision   0.0   0.516484   1.0   0.557576   0.0   1.0  0.699065    0.512343   \n",
       "recall      0.0   1.000000   1.0   1.000000   0.0   1.0  0.699065    0.666667   \n",
       "support    88.0  94.000000  94.0  92.000000  73.0  94.0  0.699065  535.000000   \n",
       "\n",
       "           weighted avg  \n",
       "f1-score       0.594199  \n",
       "precision      0.538031  \n",
       "recall         0.699065  \n",
       "support      535.000000  "
      ]
     },
     "metadata": {},
     "output_type": "display_data"
    },
    {
     "name": "stdout",
     "output_type": "stream",
     "text": [
      "\n",
      "\n",
      "------------------------------Test data------------------------------\n"
     ]
    },
    {
     "data": {
      "text/html": [
       "<div>\n",
       "<style scoped>\n",
       "    .dataframe tbody tr th:only-of-type {\n",
       "        vertical-align: middle;\n",
       "    }\n",
       "\n",
       "    .dataframe tbody tr th {\n",
       "        vertical-align: top;\n",
       "    }\n",
       "\n",
       "    .dataframe thead th {\n",
       "        text-align: right;\n",
       "    }\n",
       "</style>\n",
       "<table border=\"1\" class=\"dataframe\">\n",
       "  <thead>\n",
       "    <tr style=\"text-align: right;\">\n",
       "      <th></th>\n",
       "      <th>Metric Scores (Test data)</th>\n",
       "    </tr>\n",
       "  </thead>\n",
       "  <tbody>\n",
       "    <tr>\n",
       "      <th>Precision(micro)</th>\n",
       "      <td>0.7039</td>\n",
       "    </tr>\n",
       "    <tr>\n",
       "      <th>Precision(macro)</th>\n",
       "      <td>0.5134</td>\n",
       "    </tr>\n",
       "    <tr>\n",
       "      <th>Precision(weighted)</th>\n",
       "      <td>0.5444</td>\n",
       "    </tr>\n",
       "    <tr>\n",
       "      <th>MCC</th>\n",
       "      <td>0.6787</td>\n",
       "    </tr>\n",
       "    <tr>\n",
       "      <th>Recall(micro)</th>\n",
       "      <td>0.7039</td>\n",
       "    </tr>\n",
       "    <tr>\n",
       "      <th>Recall(macro)</th>\n",
       "      <td>0.6667</td>\n",
       "    </tr>\n",
       "    <tr>\n",
       "      <th>Recall(weighted)</th>\n",
       "      <td>0.7039</td>\n",
       "    </tr>\n",
       "    <tr>\n",
       "      <th>F1-Score(micro)</th>\n",
       "      <td>0.7039</td>\n",
       "    </tr>\n",
       "    <tr>\n",
       "      <th>F1-Score(macro)</th>\n",
       "      <td>0.5671</td>\n",
       "    </tr>\n",
       "    <tr>\n",
       "      <th>F1-Score(weighted)</th>\n",
       "      <td>0.6003</td>\n",
       "    </tr>\n",
       "    <tr>\n",
       "      <th>Accuracy</th>\n",
       "      <td>0.7039</td>\n",
       "    </tr>\n",
       "  </tbody>\n",
       "</table>\n",
       "</div>"
      ],
      "text/plain": [
       "                    Metric Scores (Test data)\n",
       "Precision(micro)                       0.7039\n",
       "Precision(macro)                       0.5134\n",
       "Precision(weighted)                    0.5444\n",
       "MCC                                    0.6787\n",
       "Recall(micro)                          0.7039\n",
       "Recall(macro)                          0.6667\n",
       "Recall(weighted)                       0.7039\n",
       "F1-Score(micro)                        0.7039\n",
       "F1-Score(macro)                        0.5671\n",
       "F1-Score(weighted)                     0.6003\n",
       "Accuracy                               0.7039"
      ]
     },
     "metadata": {},
     "output_type": "display_data"
    },
    {
     "data": {
      "image/png": "[encoded data removed]",
      "text/plain": [
       "<Figure size 720x576 with 2 Axes>"
      ]
     },
     "metadata": {},
     "output_type": "display_data"
    },
    {
     "name": "stdout",
     "output_type": "stream",
     "text": [
      "\n",
      "\n",
      "**********Generating graphs for model's correctly predicted...**********\n",
      "\n",
      "Generating graph for Survived.\n",
      "--------------------------------------------------------------------------------\n",
      "\n",
      "\n",
      "Generating graph for Pclass.\n",
      "--------------------------------------------------------------------------------\n",
      "\n",
      "\n",
      "Generating graph for Sex.\n",
      "--------------------------------------------------------------------------------\n",
      "\n",
      "\n",
      "Generating graph for Age.\n",
      "--------------------------------------------------------------------------------\n",
      "\n",
      "\n",
      "Generating graph for SibSp.\n",
      "--------------------------------------------------------------------------------\n",
      "\n",
      "\n",
      "Generating graph for Parch.\n",
      "--------------------------------------------------------------------------------\n",
      "\n",
      "\n",
      "Generating graph for Fare.\n",
      "--------------------------------------------------------------------------------\n",
      "\n",
      "\n",
      "Generating graph for Cabin.\n",
      "--------------------------------------------------------------------------------\n",
      "\n",
      "\n",
      "\n",
      "\n",
      "**********Generating graphs for model's incorrectly predicted...**********\n",
      "\n",
      "Generating graph for Survived.\n",
      "--------------------------------------------------------------------------------\n",
      "\n",
      "\n",
      "Generating graph for Pclass.\n",
      "--------------------------------------------------------------------------------\n",
      "\n",
      "\n",
      "Generating graph for Sex.\n",
      "--------------------------------------------------------------------------------\n",
      "\n",
      "\n",
      "Generating graph for Age.\n",
      "--------------------------------------------------------------------------------\n",
      "\n",
      "\n",
      "Generating graph for SibSp.\n",
      "--------------------------------------------------------------------------------\n",
      "\n",
      "\n",
      "Generating graph for Parch.\n",
      "--------------------------------------------------------------------------------\n",
      "\n",
      "\n",
      "Generating graph for Fare.\n",
      "--------------------------------------------------------------------------------\n",
      "\n",
      "\n",
      "Generating graph for Cabin.\n",
      "--------------------------------------------------------------------------------\n",
      "\n",
      "\n"
     ]
    },
    {
     "name": "stderr",
     "output_type": "stream",
     "text": [
      "/Users/ericcacciavillani/anaconda3/envs/Master_Project/lib/python3.6/site-packages/sklearn/metrics/classification.py:1437: UndefinedMetricWarning: Precision and F-score are ill-defined and being set to 0.0 in labels with no predicted samples.\n",
      "  'precision', 'predicted', average, warn_for)\n"
     ]
    },
    {
     "data": {
      "text/html": [
       "<div>\n",
       "<style scoped>\n",
       "    .dataframe tbody tr th:only-of-type {\n",
       "        vertical-align: middle;\n",
       "    }\n",
       "\n",
       "    .dataframe tbody tr th {\n",
       "        vertical-align: top;\n",
       "    }\n",
       "\n",
       "    .dataframe thead th {\n",
       "        text-align: right;\n",
       "    }\n",
       "</style>\n",
       "<table border=\"1\" class=\"dataframe\">\n",
       "  <thead>\n",
       "    <tr style=\"text-align: right;\">\n",
       "      <th></th>\n",
       "      <th>0</th>\n",
       "      <th>1</th>\n",
       "      <th>2</th>\n",
       "      <th>3</th>\n",
       "      <th>4</th>\n",
       "      <th>5</th>\n",
       "      <th>accuracy</th>\n",
       "      <th>macro avg</th>\n",
       "      <th>weighted avg</th>\n",
       "    </tr>\n",
       "  </thead>\n",
       "  <tbody>\n",
       "    <tr>\n",
       "      <th>f1-score</th>\n",
       "      <td>0.0</td>\n",
       "      <td>0.688172</td>\n",
       "      <td>1.0</td>\n",
       "      <td>0.714286</td>\n",
       "      <td>0.0</td>\n",
       "      <td>1.0</td>\n",
       "      <td>0.703911</td>\n",
       "      <td>0.567076</td>\n",
       "      <td>0.600280</td>\n",
       "    </tr>\n",
       "    <tr>\n",
       "      <th>precision</th>\n",
       "      <td>0.0</td>\n",
       "      <td>0.524590</td>\n",
       "      <td>1.0</td>\n",
       "      <td>0.555556</td>\n",
       "      <td>0.0</td>\n",
       "      <td>1.0</td>\n",
       "      <td>0.703911</td>\n",
       "      <td>0.513358</td>\n",
       "      <td>0.544433</td>\n",
       "    </tr>\n",
       "    <tr>\n",
       "      <th>recall</th>\n",
       "      <td>0.0</td>\n",
       "      <td>1.000000</td>\n",
       "      <td>1.0</td>\n",
       "      <td>1.000000</td>\n",
       "      <td>0.0</td>\n",
       "      <td>1.0</td>\n",
       "      <td>0.703911</td>\n",
       "      <td>0.666667</td>\n",
       "      <td>0.703911</td>\n",
       "    </tr>\n",
       "    <tr>\n",
       "      <th>support</th>\n",
       "      <td>29.0</td>\n",
       "      <td>32.000000</td>\n",
       "      <td>32.0</td>\n",
       "      <td>30.000000</td>\n",
       "      <td>24.0</td>\n",
       "      <td>32.0</td>\n",
       "      <td>0.703911</td>\n",
       "      <td>179.000000</td>\n",
       "      <td>179.000000</td>\n",
       "    </tr>\n",
       "  </tbody>\n",
       "</table>\n",
       "</div>"
      ],
      "text/plain": [
       "              0          1     2          3     4     5  accuracy   macro avg  \\\n",
       "f1-score    0.0   0.688172   1.0   0.714286   0.0   1.0  0.703911    0.567076   \n",
       "precision   0.0   0.524590   1.0   0.555556   0.0   1.0  0.703911    0.513358   \n",
       "recall      0.0   1.000000   1.0   1.000000   0.0   1.0  0.703911    0.666667   \n",
       "support    29.0  32.000000  32.0  30.000000  24.0  32.0  0.703911  179.000000   \n",
       "\n",
       "           weighted avg  \n",
       "f1-score       0.600280  \n",
       "precision      0.544433  \n",
       "recall         0.703911  \n",
       "support      179.000000  "
      ]
     },
     "metadata": {},
     "output_type": "display_data"
    },
    {
     "data": {
      "text/plain": [
       "<eFlow.Analysis.SupervisedModelAnalysis.SupervisedModelAnalysis at 0x1c29f54c50>"
      ]
     },
     "execution_count": 30,
     "metadata": {},
     "output_type": "execute_result"
    }
   ],
   "source": [
    "from eFlow.Analysis.SupervisedModelAnalysis import *\n",
    "\n",
    "SupervisedModelAnalysis(model=model,\n",
    "                        pred_func=model.predict,\n",
    "                        model_name=repr(model).split(\"(\")[0],\n",
    "                        X_train=X_train,\n",
    "                        X_test=X_test,\n",
    "                        y_train=y_train,\n",
    "                        y_test=y_test,\n",
    "                        notebook_mode=True,\n",
    "                        project_name=f'{parent_project_name}/Supervised Analysis',\n",
    "                        prediction_type=\"Classification\",\n",
    "                        thresholds=[.05, .2, .1, .05, .9, .6],\n",
    "                        df_features=df_features)"
   ]
  }
 ],
 "metadata": {
  "kernelspec": {
   "display_name": "Python 3",
   "language": "python",
   "name": "python3"
  },
  "language_info": {
   "codemirror_mode": {
    "name": "ipython",
    "version": 3
   },
   "file_extension": ".py",
   "mimetype": "text/x-python",
   "name": "python",
   "nbconvert_exporter": "python",
   "pygments_lexer": "ipython3",
   "version": "3.6.8"
  }
 },
 "nbformat": 4,
 "nbformat_minor": 4
}
